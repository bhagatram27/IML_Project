{
  "cells": [
    {
      "cell_type": "markdown",
      "metadata": {
        "id": "S5lA_peVOmpf"
      },
      "source": [
        "#Assignment – 2 : Classification and Feature Engineering"
      ]
    },
    {
      "cell_type": "markdown",
      "metadata": {
        "id": "YLPljaC2O02k"
      },
      "source": [
        "**OBJECTIVE 01:**\n",
        "\n",
        "\n",
        "\n"
      ]
    },
    {
      "cell_type": "code",
      "execution_count": null,
      "metadata": {
        "id": "LypsFUcdOmOW"
      },
      "outputs": [],
      "source": []
    },
    {
      "cell_type": "markdown",
      "metadata": {
        "id": "BNvkv9LYeCDd"
      },
      "source": [
        "**1. Let your code read the data directly from https://www.ee.iitb.ac.in/~asethi/Dump/MouseTrain.csv**"
      ]
    },
    {
      "cell_type": "code",
      "execution_count": 18,
      "metadata": {
        "id": "icoDPOJ07-XI",
        "colab": {
          "base_uri": "https://localhost:8080/",
          "height": 487
        },
        "outputId": "d8ba97fc-1d8d-4d33-fbf1-ad0c15d0429e"
      },
      "outputs": [
        {
          "output_type": "execute_result",
          "data": {
            "text/plain": [
              "     DYRK1A_N   ITSN1_N    BDNF_N     NR1_N    NR2A_N    pAKT_N   pBRAF_N  \\\n",
              "0    0.503644  0.747193  0.430175  2.816329  5.990152  0.218830  0.177565   \n",
              "1    0.514617  0.689064  0.411770  2.789514  5.685038  0.211636  0.172817   \n",
              "2    0.509183  0.730247  0.418309  2.687201  5.622059  0.209011  0.175722   \n",
              "3    0.442107  0.617076  0.358626  2.466947  4.979503  0.222886  0.176463   \n",
              "4    0.434940  0.617430  0.358802  2.365785  4.718679  0.213106  0.173627   \n",
              "..        ...       ...       ...       ...       ...       ...       ...   \n",
              "757  0.394169  0.623696  0.316564  2.104045  3.314706  0.234529  0.200657   \n",
              "758  0.401739  0.659571  0.321841  2.183930  3.411782  0.236546  0.190826   \n",
              "759  0.382182  0.586545  0.318545  2.072000  3.073636  0.259636  0.202727   \n",
              "760  0.365622  0.572209  0.297992  2.004931  2.783551  0.245333  0.190384   \n",
              "761  0.365605  0.599499  0.301539  2.062813  2.952577  0.248568  0.198819   \n",
              "\n",
              "     pCAMKII_N   pCREB_N    pELK_N  ...    BCL2_N     pS6_N   pCFOS_N  \\\n",
              "0     2.373744  0.232224  1.750936  ...       NaN  0.106305  0.108336   \n",
              "1     2.292150  0.226972  1.596377  ...       NaN  0.106592  0.104315   \n",
              "2     2.283337  0.230247  1.561316  ...       NaN  0.108303  0.106219   \n",
              "3     2.152301  0.207004  1.595086  ...       NaN  0.103184  0.111262   \n",
              "4     2.134014  0.192158  1.504230  ...       NaN  0.104784  0.110694   \n",
              "..         ...       ...       ...  ...       ...       ...       ...   \n",
              "757   3.208804  0.221809  1.218951  ...  0.110916  0.119428  0.115567   \n",
              "758   3.384350  0.231899  1.250487  ...  0.110350  0.118081  0.108944   \n",
              "759   3.006364  0.223455  1.248727  ...  0.133664  0.116134  0.114635   \n",
              "760   2.948221  0.217506  1.177527  ...  0.136994  0.120649  0.120649   \n",
              "761   3.069435  0.226736  1.220472  ...  0.120182  0.121738  0.110486   \n",
              "\n",
              "        SYP_N  H3AcK18_N    EGR1_N  H3MeK4_N    CaNA_N  Genotype  \\\n",
              "0    0.427099   0.114783  0.131790  0.128186  1.675652   Control   \n",
              "1    0.441581   0.111974  0.135103  0.131119  1.743610   Control   \n",
              "2    0.435777   0.111883  0.133362  0.127431  1.926427   Control   \n",
              "3    0.391691   0.130405  0.147444  0.146901  1.700563   Control   \n",
              "4    0.434154   0.118481  0.140314  0.148380  1.839730   Control   \n",
              "..        ...        ...       ...       ...       ...       ...   \n",
              "757  0.441207   0.148473  0.146192  0.190681  1.474465    Ts65Dn   \n",
              "758  0.444913   0.153137  0.149798  0.197944  1.516605    Ts65Dn   \n",
              "759  0.422789   0.148426  0.163649  0.191212  1.433514    Ts65Dn   \n",
              "760  0.459901   0.146872  0.140640  0.213899  1.543274    Ts65Dn   \n",
              "761  0.424228   0.173689  0.166268  0.206129  1.520110    Ts65Dn   \n",
              "\n",
              "     Treatment_Behavior  \n",
              "0         Memantine_C/S  \n",
              "1         Memantine_C/S  \n",
              "2         Memantine_C/S  \n",
              "3         Memantine_C/S  \n",
              "4         Memantine_C/S  \n",
              "..                  ...  \n",
              "757          Saline_S/C  \n",
              "758          Saline_S/C  \n",
              "759          Saline_S/C  \n",
              "760          Saline_S/C  \n",
              "761          Saline_S/C  \n",
              "\n",
              "[762 rows x 79 columns]"
            ],
            "text/html": [
              "\n",
              "  <div id=\"df-20e2a40b-829f-4537-8261-9924dfa4a973\">\n",
              "    <div class=\"colab-df-container\">\n",
              "      <div>\n",
              "<style scoped>\n",
              "    .dataframe tbody tr th:only-of-type {\n",
              "        vertical-align: middle;\n",
              "    }\n",
              "\n",
              "    .dataframe tbody tr th {\n",
              "        vertical-align: top;\n",
              "    }\n",
              "\n",
              "    .dataframe thead th {\n",
              "        text-align: right;\n",
              "    }\n",
              "</style>\n",
              "<table border=\"1\" class=\"dataframe\">\n",
              "  <thead>\n",
              "    <tr style=\"text-align: right;\">\n",
              "      <th></th>\n",
              "      <th>DYRK1A_N</th>\n",
              "      <th>ITSN1_N</th>\n",
              "      <th>BDNF_N</th>\n",
              "      <th>NR1_N</th>\n",
              "      <th>NR2A_N</th>\n",
              "      <th>pAKT_N</th>\n",
              "      <th>pBRAF_N</th>\n",
              "      <th>pCAMKII_N</th>\n",
              "      <th>pCREB_N</th>\n",
              "      <th>pELK_N</th>\n",
              "      <th>...</th>\n",
              "      <th>BCL2_N</th>\n",
              "      <th>pS6_N</th>\n",
              "      <th>pCFOS_N</th>\n",
              "      <th>SYP_N</th>\n",
              "      <th>H3AcK18_N</th>\n",
              "      <th>EGR1_N</th>\n",
              "      <th>H3MeK4_N</th>\n",
              "      <th>CaNA_N</th>\n",
              "      <th>Genotype</th>\n",
              "      <th>Treatment_Behavior</th>\n",
              "    </tr>\n",
              "  </thead>\n",
              "  <tbody>\n",
              "    <tr>\n",
              "      <th>0</th>\n",
              "      <td>0.503644</td>\n",
              "      <td>0.747193</td>\n",
              "      <td>0.430175</td>\n",
              "      <td>2.816329</td>\n",
              "      <td>5.990152</td>\n",
              "      <td>0.218830</td>\n",
              "      <td>0.177565</td>\n",
              "      <td>2.373744</td>\n",
              "      <td>0.232224</td>\n",
              "      <td>1.750936</td>\n",
              "      <td>...</td>\n",
              "      <td>NaN</td>\n",
              "      <td>0.106305</td>\n",
              "      <td>0.108336</td>\n",
              "      <td>0.427099</td>\n",
              "      <td>0.114783</td>\n",
              "      <td>0.131790</td>\n",
              "      <td>0.128186</td>\n",
              "      <td>1.675652</td>\n",
              "      <td>Control</td>\n",
              "      <td>Memantine_C/S</td>\n",
              "    </tr>\n",
              "    <tr>\n",
              "      <th>1</th>\n",
              "      <td>0.514617</td>\n",
              "      <td>0.689064</td>\n",
              "      <td>0.411770</td>\n",
              "      <td>2.789514</td>\n",
              "      <td>5.685038</td>\n",
              "      <td>0.211636</td>\n",
              "      <td>0.172817</td>\n",
              "      <td>2.292150</td>\n",
              "      <td>0.226972</td>\n",
              "      <td>1.596377</td>\n",
              "      <td>...</td>\n",
              "      <td>NaN</td>\n",
              "      <td>0.106592</td>\n",
              "      <td>0.104315</td>\n",
              "      <td>0.441581</td>\n",
              "      <td>0.111974</td>\n",
              "      <td>0.135103</td>\n",
              "      <td>0.131119</td>\n",
              "      <td>1.743610</td>\n",
              "      <td>Control</td>\n",
              "      <td>Memantine_C/S</td>\n",
              "    </tr>\n",
              "    <tr>\n",
              "      <th>2</th>\n",
              "      <td>0.509183</td>\n",
              "      <td>0.730247</td>\n",
              "      <td>0.418309</td>\n",
              "      <td>2.687201</td>\n",
              "      <td>5.622059</td>\n",
              "      <td>0.209011</td>\n",
              "      <td>0.175722</td>\n",
              "      <td>2.283337</td>\n",
              "      <td>0.230247</td>\n",
              "      <td>1.561316</td>\n",
              "      <td>...</td>\n",
              "      <td>NaN</td>\n",
              "      <td>0.108303</td>\n",
              "      <td>0.106219</td>\n",
              "      <td>0.435777</td>\n",
              "      <td>0.111883</td>\n",
              "      <td>0.133362</td>\n",
              "      <td>0.127431</td>\n",
              "      <td>1.926427</td>\n",
              "      <td>Control</td>\n",
              "      <td>Memantine_C/S</td>\n",
              "    </tr>\n",
              "    <tr>\n",
              "      <th>3</th>\n",
              "      <td>0.442107</td>\n",
              "      <td>0.617076</td>\n",
              "      <td>0.358626</td>\n",
              "      <td>2.466947</td>\n",
              "      <td>4.979503</td>\n",
              "      <td>0.222886</td>\n",
              "      <td>0.176463</td>\n",
              "      <td>2.152301</td>\n",
              "      <td>0.207004</td>\n",
              "      <td>1.595086</td>\n",
              "      <td>...</td>\n",
              "      <td>NaN</td>\n",
              "      <td>0.103184</td>\n",
              "      <td>0.111262</td>\n",
              "      <td>0.391691</td>\n",
              "      <td>0.130405</td>\n",
              "      <td>0.147444</td>\n",
              "      <td>0.146901</td>\n",
              "      <td>1.700563</td>\n",
              "      <td>Control</td>\n",
              "      <td>Memantine_C/S</td>\n",
              "    </tr>\n",
              "    <tr>\n",
              "      <th>4</th>\n",
              "      <td>0.434940</td>\n",
              "      <td>0.617430</td>\n",
              "      <td>0.358802</td>\n",
              "      <td>2.365785</td>\n",
              "      <td>4.718679</td>\n",
              "      <td>0.213106</td>\n",
              "      <td>0.173627</td>\n",
              "      <td>2.134014</td>\n",
              "      <td>0.192158</td>\n",
              "      <td>1.504230</td>\n",
              "      <td>...</td>\n",
              "      <td>NaN</td>\n",
              "      <td>0.104784</td>\n",
              "      <td>0.110694</td>\n",
              "      <td>0.434154</td>\n",
              "      <td>0.118481</td>\n",
              "      <td>0.140314</td>\n",
              "      <td>0.148380</td>\n",
              "      <td>1.839730</td>\n",
              "      <td>Control</td>\n",
              "      <td>Memantine_C/S</td>\n",
              "    </tr>\n",
              "    <tr>\n",
              "      <th>...</th>\n",
              "      <td>...</td>\n",
              "      <td>...</td>\n",
              "      <td>...</td>\n",
              "      <td>...</td>\n",
              "      <td>...</td>\n",
              "      <td>...</td>\n",
              "      <td>...</td>\n",
              "      <td>...</td>\n",
              "      <td>...</td>\n",
              "      <td>...</td>\n",
              "      <td>...</td>\n",
              "      <td>...</td>\n",
              "      <td>...</td>\n",
              "      <td>...</td>\n",
              "      <td>...</td>\n",
              "      <td>...</td>\n",
              "      <td>...</td>\n",
              "      <td>...</td>\n",
              "      <td>...</td>\n",
              "      <td>...</td>\n",
              "      <td>...</td>\n",
              "    </tr>\n",
              "    <tr>\n",
              "      <th>757</th>\n",
              "      <td>0.394169</td>\n",
              "      <td>0.623696</td>\n",
              "      <td>0.316564</td>\n",
              "      <td>2.104045</td>\n",
              "      <td>3.314706</td>\n",
              "      <td>0.234529</td>\n",
              "      <td>0.200657</td>\n",
              "      <td>3.208804</td>\n",
              "      <td>0.221809</td>\n",
              "      <td>1.218951</td>\n",
              "      <td>...</td>\n",
              "      <td>0.110916</td>\n",
              "      <td>0.119428</td>\n",
              "      <td>0.115567</td>\n",
              "      <td>0.441207</td>\n",
              "      <td>0.148473</td>\n",
              "      <td>0.146192</td>\n",
              "      <td>0.190681</td>\n",
              "      <td>1.474465</td>\n",
              "      <td>Ts65Dn</td>\n",
              "      <td>Saline_S/C</td>\n",
              "    </tr>\n",
              "    <tr>\n",
              "      <th>758</th>\n",
              "      <td>0.401739</td>\n",
              "      <td>0.659571</td>\n",
              "      <td>0.321841</td>\n",
              "      <td>2.183930</td>\n",
              "      <td>3.411782</td>\n",
              "      <td>0.236546</td>\n",
              "      <td>0.190826</td>\n",
              "      <td>3.384350</td>\n",
              "      <td>0.231899</td>\n",
              "      <td>1.250487</td>\n",
              "      <td>...</td>\n",
              "      <td>0.110350</td>\n",
              "      <td>0.118081</td>\n",
              "      <td>0.108944</td>\n",
              "      <td>0.444913</td>\n",
              "      <td>0.153137</td>\n",
              "      <td>0.149798</td>\n",
              "      <td>0.197944</td>\n",
              "      <td>1.516605</td>\n",
              "      <td>Ts65Dn</td>\n",
              "      <td>Saline_S/C</td>\n",
              "    </tr>\n",
              "    <tr>\n",
              "      <th>759</th>\n",
              "      <td>0.382182</td>\n",
              "      <td>0.586545</td>\n",
              "      <td>0.318545</td>\n",
              "      <td>2.072000</td>\n",
              "      <td>3.073636</td>\n",
              "      <td>0.259636</td>\n",
              "      <td>0.202727</td>\n",
              "      <td>3.006364</td>\n",
              "      <td>0.223455</td>\n",
              "      <td>1.248727</td>\n",
              "      <td>...</td>\n",
              "      <td>0.133664</td>\n",
              "      <td>0.116134</td>\n",
              "      <td>0.114635</td>\n",
              "      <td>0.422789</td>\n",
              "      <td>0.148426</td>\n",
              "      <td>0.163649</td>\n",
              "      <td>0.191212</td>\n",
              "      <td>1.433514</td>\n",
              "      <td>Ts65Dn</td>\n",
              "      <td>Saline_S/C</td>\n",
              "    </tr>\n",
              "    <tr>\n",
              "      <th>760</th>\n",
              "      <td>0.365622</td>\n",
              "      <td>0.572209</td>\n",
              "      <td>0.297992</td>\n",
              "      <td>2.004931</td>\n",
              "      <td>2.783551</td>\n",
              "      <td>0.245333</td>\n",
              "      <td>0.190384</td>\n",
              "      <td>2.948221</td>\n",
              "      <td>0.217506</td>\n",
              "      <td>1.177527</td>\n",
              "      <td>...</td>\n",
              "      <td>0.136994</td>\n",
              "      <td>0.120649</td>\n",
              "      <td>0.120649</td>\n",
              "      <td>0.459901</td>\n",
              "      <td>0.146872</td>\n",
              "      <td>0.140640</td>\n",
              "      <td>0.213899</td>\n",
              "      <td>1.543274</td>\n",
              "      <td>Ts65Dn</td>\n",
              "      <td>Saline_S/C</td>\n",
              "    </tr>\n",
              "    <tr>\n",
              "      <th>761</th>\n",
              "      <td>0.365605</td>\n",
              "      <td>0.599499</td>\n",
              "      <td>0.301539</td>\n",
              "      <td>2.062813</td>\n",
              "      <td>2.952577</td>\n",
              "      <td>0.248568</td>\n",
              "      <td>0.198819</td>\n",
              "      <td>3.069435</td>\n",
              "      <td>0.226736</td>\n",
              "      <td>1.220472</td>\n",
              "      <td>...</td>\n",
              "      <td>0.120182</td>\n",
              "      <td>0.121738</td>\n",
              "      <td>0.110486</td>\n",
              "      <td>0.424228</td>\n",
              "      <td>0.173689</td>\n",
              "      <td>0.166268</td>\n",
              "      <td>0.206129</td>\n",
              "      <td>1.520110</td>\n",
              "      <td>Ts65Dn</td>\n",
              "      <td>Saline_S/C</td>\n",
              "    </tr>\n",
              "  </tbody>\n",
              "</table>\n",
              "<p>762 rows × 79 columns</p>\n",
              "</div>\n",
              "      <button class=\"colab-df-convert\" onclick=\"convertToInteractive('df-20e2a40b-829f-4537-8261-9924dfa4a973')\"\n",
              "              title=\"Convert this dataframe to an interactive table.\"\n",
              "              style=\"display:none;\">\n",
              "        \n",
              "  <svg xmlns=\"http://www.w3.org/2000/svg\" height=\"24px\"viewBox=\"0 0 24 24\"\n",
              "       width=\"24px\">\n",
              "    <path d=\"M0 0h24v24H0V0z\" fill=\"none\"/>\n",
              "    <path d=\"M18.56 5.44l.94 2.06.94-2.06 2.06-.94-2.06-.94-.94-2.06-.94 2.06-2.06.94zm-11 1L8.5 8.5l.94-2.06 2.06-.94-2.06-.94L8.5 2.5l-.94 2.06-2.06.94zm10 10l.94 2.06.94-2.06 2.06-.94-2.06-.94-.94-2.06-.94 2.06-2.06.94z\"/><path d=\"M17.41 7.96l-1.37-1.37c-.4-.4-.92-.59-1.43-.59-.52 0-1.04.2-1.43.59L10.3 9.45l-7.72 7.72c-.78.78-.78 2.05 0 2.83L4 21.41c.39.39.9.59 1.41.59.51 0 1.02-.2 1.41-.59l7.78-7.78 2.81-2.81c.8-.78.8-2.07 0-2.86zM5.41 20L4 18.59l7.72-7.72 1.47 1.35L5.41 20z\"/>\n",
              "  </svg>\n",
              "      </button>\n",
              "      \n",
              "  <style>\n",
              "    .colab-df-container {\n",
              "      display:flex;\n",
              "      flex-wrap:wrap;\n",
              "      gap: 12px;\n",
              "    }\n",
              "\n",
              "    .colab-df-convert {\n",
              "      background-color: #E8F0FE;\n",
              "      border: none;\n",
              "      border-radius: 50%;\n",
              "      cursor: pointer;\n",
              "      display: none;\n",
              "      fill: #1967D2;\n",
              "      height: 32px;\n",
              "      padding: 0 0 0 0;\n",
              "      width: 32px;\n",
              "    }\n",
              "\n",
              "    .colab-df-convert:hover {\n",
              "      background-color: #E2EBFA;\n",
              "      box-shadow: 0px 1px 2px rgba(60, 64, 67, 0.3), 0px 1px 3px 1px rgba(60, 64, 67, 0.15);\n",
              "      fill: #174EA6;\n",
              "    }\n",
              "\n",
              "    [theme=dark] .colab-df-convert {\n",
              "      background-color: #3B4455;\n",
              "      fill: #D2E3FC;\n",
              "    }\n",
              "\n",
              "    [theme=dark] .colab-df-convert:hover {\n",
              "      background-color: #434B5C;\n",
              "      box-shadow: 0px 1px 3px 1px rgba(0, 0, 0, 0.15);\n",
              "      filter: drop-shadow(0px 1px 2px rgba(0, 0, 0, 0.3));\n",
              "      fill: #FFFFFF;\n",
              "    }\n",
              "  </style>\n",
              "\n",
              "      <script>\n",
              "        const buttonEl =\n",
              "          document.querySelector('#df-20e2a40b-829f-4537-8261-9924dfa4a973 button.colab-df-convert');\n",
              "        buttonEl.style.display =\n",
              "          google.colab.kernel.accessAllowed ? 'block' : 'none';\n",
              "\n",
              "        async function convertToInteractive(key) {\n",
              "          const element = document.querySelector('#df-20e2a40b-829f-4537-8261-9924dfa4a973');\n",
              "          const dataTable =\n",
              "            await google.colab.kernel.invokeFunction('convertToInteractive',\n",
              "                                                     [key], {});\n",
              "          if (!dataTable) return;\n",
              "\n",
              "          const docLinkHtml = 'Like what you see? Visit the ' +\n",
              "            '<a target=\"_blank\" href=https://colab.research.google.com/notebooks/data_table.ipynb>data table notebook</a>'\n",
              "            + ' to learn more about interactive tables.';\n",
              "          element.innerHTML = '';\n",
              "          dataTable['output_type'] = 'display_data';\n",
              "          await google.colab.output.renderOutput(dataTable, element);\n",
              "          const docLink = document.createElement('div');\n",
              "          docLink.innerHTML = docLinkHtml;\n",
              "          element.appendChild(docLink);\n",
              "        }\n",
              "      </script>\n",
              "    </div>\n",
              "  </div>\n",
              "  "
            ]
          },
          "metadata": {},
          "execution_count": 18
        }
      ],
      "source": [
        "import numpy as np\n",
        "import pandas as pnd\n",
        "import os\n",
        "# Data is been read from the MouseTrain.csv Given in the above link\n",
        "Data =pnd.read_csv('https://www.ee.iitb.ac.in/~asethi/Dump/MouseTrain.csv') \n",
        "# To print data just write Data\n",
        "Data\n",
        "\n",
        "\n"
      ]
    },
    {
      "cell_type": "markdown",
      "source": [
        "Reference for Q:01:- https://www.geeksforgeeks.org/ways-to-import-csv-files-in-google-colab/"
      ],
      "metadata": {
        "id": "FMLSrlNSMeJ9"
      }
    },
    {
      "cell_type": "markdown",
      "metadata": {
        "id": "j_EecYoKZp7J"
      },
      "source": [
        "**2. Perform exploratory data analysis to find out:**\n",
        "\n",
        "   a. Which variables are usable, and which are not?\n",
        "\n",
        "   b. Are there significant correlations among variables?\n",
        "\n",
        "   c. Are the classes balanced? "
      ]
    },
    {
      "cell_type": "code",
      "execution_count": 19,
      "metadata": {
        "id": "cwU2zvTrZ584"
      },
      "outputs": [],
      "source": [
        "# X_data is the feature matrix after dropping the dependent variables\n",
        "X_data = Data.drop(['Genotype', 'Treatment_Behavior'], axis = 1)\n",
        "#y_data1 is the First target variable \n",
        "y_data1 = Data['Genotype']     \n",
        "#y_data2 is the First target variable                                   \n",
        "y_data2 = Data['Treatment_Behavior']   \n",
        "#The below command print the Remaining data after dropping both dependent variab                         \n",
        "# X_data                                                             "
      ]
    },
    {
      "cell_type": "code",
      "execution_count": 20,
      "metadata": {
        "colab": {
          "base_uri": "https://localhost:8080/"
        },
        "id": "jcI5n1TfbA91",
        "outputId": "1eda4b92-c97f-4079-88e4-142eb7d2a11c"
      },
      "outputs": [
        {
          "output_type": "execute_result",
          "data": {
            "text/plain": [
              "0      Control\n",
              "1      Control\n",
              "2      Control\n",
              "3      Control\n",
              "4      Control\n",
              "        ...   \n",
              "757     Ts65Dn\n",
              "758     Ts65Dn\n",
              "759     Ts65Dn\n",
              "760     Ts65Dn\n",
              "761     Ts65Dn\n",
              "Name: Genotype, Length: 762, dtype: object"
            ]
          },
          "metadata": {},
          "execution_count": 20
        }
      ],
      "source": [
        "y_data1              # Printing the \"Genotype\" Target variable                                           # first target variable "
      ]
    },
    {
      "cell_type": "code",
      "execution_count": 21,
      "metadata": {
        "colab": {
          "base_uri": "https://localhost:8080/"
        },
        "id": "2wvHXDU4bFA2",
        "outputId": "990e61b5-64d8-4d5d-9f41-f71699072a4e"
      },
      "outputs": [
        {
          "output_type": "execute_result",
          "data": {
            "text/plain": [
              "0      Memantine_C/S\n",
              "1      Memantine_C/S\n",
              "2      Memantine_C/S\n",
              "3      Memantine_C/S\n",
              "4      Memantine_C/S\n",
              "           ...      \n",
              "757       Saline_S/C\n",
              "758       Saline_S/C\n",
              "759       Saline_S/C\n",
              "760       Saline_S/C\n",
              "761       Saline_S/C\n",
              "Name: Treatment_Behavior, Length: 762, dtype: object"
            ]
          },
          "metadata": {},
          "execution_count": 21
        }
      ],
      "source": [
        "y_data2        # Printing the \"Treatment_Behavior\" Target variable                                                # second target variable"
      ]
    },
    {
      "cell_type": "code",
      "execution_count": 22,
      "metadata": {
        "colab": {
          "base_uri": "https://localhost:8080/",
          "height": 487
        },
        "id": "zCE3qekKbMau",
        "outputId": "da530a84-34af-4246-c59c-2ebe2e94148e"
      },
      "outputs": [
        {
          "output_type": "execute_result",
          "data": {
            "text/plain": [
              "           DYRK1A_N   ITSN1_N    BDNF_N     NR1_N    NR2A_N    pAKT_N  \\\n",
              "DYRK1A_N   1.000000  0.961321  0.407110  0.314795  0.340011 -0.182126   \n",
              "ITSN1_N    0.961321  1.000000  0.495102  0.428745  0.421034 -0.149509   \n",
              "BDNF_N     0.407110  0.495102  1.000000  0.817986  0.746004  0.241501   \n",
              "NR1_N      0.314795  0.428745  0.817986  1.000000  0.866667  0.185322   \n",
              "NR2A_N     0.340011  0.421034  0.746004  0.866667  1.000000  0.076446   \n",
              "...             ...       ...       ...       ...       ...       ...   \n",
              "SYP_N     -0.035929  0.039384  0.454025  0.486483  0.377628  0.199349   \n",
              "H3AcK18_N -0.406055 -0.354554 -0.207555 -0.253118 -0.292016  0.317508   \n",
              "EGR1_N    -0.324198 -0.403525 -0.247121 -0.287997 -0.326056  0.313131   \n",
              "H3MeK4_N  -0.518361 -0.558266 -0.331191 -0.404977 -0.468892  0.372945   \n",
              "CaNA_N     0.457907  0.495085  0.304098  0.205033  0.185840 -0.245944   \n",
              "\n",
              "            pBRAF_N  pCAMKII_N   pCREB_N    pELK_N  ...     SHH_N     BAD_N  \\\n",
              "DYRK1A_N  -0.085401  -0.158167  0.082463  0.811398  ... -0.223812 -0.250262   \n",
              "ITSN1_N   -0.068712  -0.114789  0.200468  0.796880  ... -0.220720 -0.331306   \n",
              "BDNF_N     0.332689   0.129602  0.569146  0.458951  ... -0.112984 -0.279752   \n",
              "NR1_N      0.220929   0.253744  0.599846  0.399791  ... -0.100915 -0.434723   \n",
              "NR2A_N     0.079740   0.223203  0.362348  0.387644  ... -0.237932 -0.486259   \n",
              "...             ...        ...       ...       ...  ...       ...       ...   \n",
              "SYP_N      0.232262   0.187727  0.383455  0.003932  ...  0.115625  0.044640   \n",
              "H3AcK18_N  0.256479   0.229161  0.176392 -0.234061  ...  0.121694  0.406723   \n",
              "EGR1_N     0.366838   0.137520 -0.124001 -0.199574  ...  0.417847  0.831734   \n",
              "H3MeK4_N   0.378236   0.080201 -0.004925 -0.277739  ...  0.268944  0.717214   \n",
              "CaNA_N    -0.204640  -0.361215  0.054356  0.223832  ... -0.166451 -0.281972   \n",
              "\n",
              "             BCL2_N     pS6_N   pCFOS_N     SYP_N  H3AcK18_N    EGR1_N  \\\n",
              "DYRK1A_N  -0.150564 -0.358480 -0.224427 -0.035929  -0.406055 -0.324198   \n",
              "ITSN1_N   -0.247760 -0.299066 -0.300170  0.039384  -0.354554 -0.403525   \n",
              "BDNF_N    -0.210969  0.070504 -0.265185  0.454025  -0.207555 -0.247121   \n",
              "NR1_N     -0.369966  0.227674 -0.364487  0.486483  -0.253118 -0.287997   \n",
              "NR2A_N    -0.321165  0.215495 -0.426562  0.377628  -0.292016 -0.326056   \n",
              "...             ...       ...       ...       ...        ...       ...   \n",
              "SYP_N      0.020941  0.392329 -0.010451  1.000000   0.131303  0.093264   \n",
              "H3AcK18_N  0.323245  0.224768  0.216137  0.131303   1.000000  0.355167   \n",
              "EGR1_N     0.847950  0.291173  0.744911  0.093264   0.355167  1.000000   \n",
              "H3MeK4_N   0.688121  0.307902  0.594812  0.001912   0.744541  0.774110   \n",
              "CaNA_N    -0.299074 -0.415155 -0.314474  0.273142  -0.263963 -0.487640   \n",
              "\n",
              "           H3MeK4_N    CaNA_N  \n",
              "DYRK1A_N  -0.518361  0.457907  \n",
              "ITSN1_N   -0.558266  0.495085  \n",
              "BDNF_N    -0.331191  0.304098  \n",
              "NR1_N     -0.404977  0.205033  \n",
              "NR2A_N    -0.468892  0.185840  \n",
              "...             ...       ...  \n",
              "SYP_N      0.001912  0.273142  \n",
              "H3AcK18_N  0.744541 -0.263963  \n",
              "EGR1_N     0.774110 -0.487640  \n",
              "H3MeK4_N   1.000000 -0.452618  \n",
              "CaNA_N    -0.452618  1.000000  \n",
              "\n",
              "[77 rows x 77 columns]"
            ],
            "text/html": [
              "\n",
              "  <div id=\"df-6c47e192-e3f1-4a19-a603-646e52309c7b\">\n",
              "    <div class=\"colab-df-container\">\n",
              "      <div>\n",
              "<style scoped>\n",
              "    .dataframe tbody tr th:only-of-type {\n",
              "        vertical-align: middle;\n",
              "    }\n",
              "\n",
              "    .dataframe tbody tr th {\n",
              "        vertical-align: top;\n",
              "    }\n",
              "\n",
              "    .dataframe thead th {\n",
              "        text-align: right;\n",
              "    }\n",
              "</style>\n",
              "<table border=\"1\" class=\"dataframe\">\n",
              "  <thead>\n",
              "    <tr style=\"text-align: right;\">\n",
              "      <th></th>\n",
              "      <th>DYRK1A_N</th>\n",
              "      <th>ITSN1_N</th>\n",
              "      <th>BDNF_N</th>\n",
              "      <th>NR1_N</th>\n",
              "      <th>NR2A_N</th>\n",
              "      <th>pAKT_N</th>\n",
              "      <th>pBRAF_N</th>\n",
              "      <th>pCAMKII_N</th>\n",
              "      <th>pCREB_N</th>\n",
              "      <th>pELK_N</th>\n",
              "      <th>...</th>\n",
              "      <th>SHH_N</th>\n",
              "      <th>BAD_N</th>\n",
              "      <th>BCL2_N</th>\n",
              "      <th>pS6_N</th>\n",
              "      <th>pCFOS_N</th>\n",
              "      <th>SYP_N</th>\n",
              "      <th>H3AcK18_N</th>\n",
              "      <th>EGR1_N</th>\n",
              "      <th>H3MeK4_N</th>\n",
              "      <th>CaNA_N</th>\n",
              "    </tr>\n",
              "  </thead>\n",
              "  <tbody>\n",
              "    <tr>\n",
              "      <th>DYRK1A_N</th>\n",
              "      <td>1.000000</td>\n",
              "      <td>0.961321</td>\n",
              "      <td>0.407110</td>\n",
              "      <td>0.314795</td>\n",
              "      <td>0.340011</td>\n",
              "      <td>-0.182126</td>\n",
              "      <td>-0.085401</td>\n",
              "      <td>-0.158167</td>\n",
              "      <td>0.082463</td>\n",
              "      <td>0.811398</td>\n",
              "      <td>...</td>\n",
              "      <td>-0.223812</td>\n",
              "      <td>-0.250262</td>\n",
              "      <td>-0.150564</td>\n",
              "      <td>-0.358480</td>\n",
              "      <td>-0.224427</td>\n",
              "      <td>-0.035929</td>\n",
              "      <td>-0.406055</td>\n",
              "      <td>-0.324198</td>\n",
              "      <td>-0.518361</td>\n",
              "      <td>0.457907</td>\n",
              "    </tr>\n",
              "    <tr>\n",
              "      <th>ITSN1_N</th>\n",
              "      <td>0.961321</td>\n",
              "      <td>1.000000</td>\n",
              "      <td>0.495102</td>\n",
              "      <td>0.428745</td>\n",
              "      <td>0.421034</td>\n",
              "      <td>-0.149509</td>\n",
              "      <td>-0.068712</td>\n",
              "      <td>-0.114789</td>\n",
              "      <td>0.200468</td>\n",
              "      <td>0.796880</td>\n",
              "      <td>...</td>\n",
              "      <td>-0.220720</td>\n",
              "      <td>-0.331306</td>\n",
              "      <td>-0.247760</td>\n",
              "      <td>-0.299066</td>\n",
              "      <td>-0.300170</td>\n",
              "      <td>0.039384</td>\n",
              "      <td>-0.354554</td>\n",
              "      <td>-0.403525</td>\n",
              "      <td>-0.558266</td>\n",
              "      <td>0.495085</td>\n",
              "    </tr>\n",
              "    <tr>\n",
              "      <th>BDNF_N</th>\n",
              "      <td>0.407110</td>\n",
              "      <td>0.495102</td>\n",
              "      <td>1.000000</td>\n",
              "      <td>0.817986</td>\n",
              "      <td>0.746004</td>\n",
              "      <td>0.241501</td>\n",
              "      <td>0.332689</td>\n",
              "      <td>0.129602</td>\n",
              "      <td>0.569146</td>\n",
              "      <td>0.458951</td>\n",
              "      <td>...</td>\n",
              "      <td>-0.112984</td>\n",
              "      <td>-0.279752</td>\n",
              "      <td>-0.210969</td>\n",
              "      <td>0.070504</td>\n",
              "      <td>-0.265185</td>\n",
              "      <td>0.454025</td>\n",
              "      <td>-0.207555</td>\n",
              "      <td>-0.247121</td>\n",
              "      <td>-0.331191</td>\n",
              "      <td>0.304098</td>\n",
              "    </tr>\n",
              "    <tr>\n",
              "      <th>NR1_N</th>\n",
              "      <td>0.314795</td>\n",
              "      <td>0.428745</td>\n",
              "      <td>0.817986</td>\n",
              "      <td>1.000000</td>\n",
              "      <td>0.866667</td>\n",
              "      <td>0.185322</td>\n",
              "      <td>0.220929</td>\n",
              "      <td>0.253744</td>\n",
              "      <td>0.599846</td>\n",
              "      <td>0.399791</td>\n",
              "      <td>...</td>\n",
              "      <td>-0.100915</td>\n",
              "      <td>-0.434723</td>\n",
              "      <td>-0.369966</td>\n",
              "      <td>0.227674</td>\n",
              "      <td>-0.364487</td>\n",
              "      <td>0.486483</td>\n",
              "      <td>-0.253118</td>\n",
              "      <td>-0.287997</td>\n",
              "      <td>-0.404977</td>\n",
              "      <td>0.205033</td>\n",
              "    </tr>\n",
              "    <tr>\n",
              "      <th>NR2A_N</th>\n",
              "      <td>0.340011</td>\n",
              "      <td>0.421034</td>\n",
              "      <td>0.746004</td>\n",
              "      <td>0.866667</td>\n",
              "      <td>1.000000</td>\n",
              "      <td>0.076446</td>\n",
              "      <td>0.079740</td>\n",
              "      <td>0.223203</td>\n",
              "      <td>0.362348</td>\n",
              "      <td>0.387644</td>\n",
              "      <td>...</td>\n",
              "      <td>-0.237932</td>\n",
              "      <td>-0.486259</td>\n",
              "      <td>-0.321165</td>\n",
              "      <td>0.215495</td>\n",
              "      <td>-0.426562</td>\n",
              "      <td>0.377628</td>\n",
              "      <td>-0.292016</td>\n",
              "      <td>-0.326056</td>\n",
              "      <td>-0.468892</td>\n",
              "      <td>0.185840</td>\n",
              "    </tr>\n",
              "    <tr>\n",
              "      <th>...</th>\n",
              "      <td>...</td>\n",
              "      <td>...</td>\n",
              "      <td>...</td>\n",
              "      <td>...</td>\n",
              "      <td>...</td>\n",
              "      <td>...</td>\n",
              "      <td>...</td>\n",
              "      <td>...</td>\n",
              "      <td>...</td>\n",
              "      <td>...</td>\n",
              "      <td>...</td>\n",
              "      <td>...</td>\n",
              "      <td>...</td>\n",
              "      <td>...</td>\n",
              "      <td>...</td>\n",
              "      <td>...</td>\n",
              "      <td>...</td>\n",
              "      <td>...</td>\n",
              "      <td>...</td>\n",
              "      <td>...</td>\n",
              "      <td>...</td>\n",
              "    </tr>\n",
              "    <tr>\n",
              "      <th>SYP_N</th>\n",
              "      <td>-0.035929</td>\n",
              "      <td>0.039384</td>\n",
              "      <td>0.454025</td>\n",
              "      <td>0.486483</td>\n",
              "      <td>0.377628</td>\n",
              "      <td>0.199349</td>\n",
              "      <td>0.232262</td>\n",
              "      <td>0.187727</td>\n",
              "      <td>0.383455</td>\n",
              "      <td>0.003932</td>\n",
              "      <td>...</td>\n",
              "      <td>0.115625</td>\n",
              "      <td>0.044640</td>\n",
              "      <td>0.020941</td>\n",
              "      <td>0.392329</td>\n",
              "      <td>-0.010451</td>\n",
              "      <td>1.000000</td>\n",
              "      <td>0.131303</td>\n",
              "      <td>0.093264</td>\n",
              "      <td>0.001912</td>\n",
              "      <td>0.273142</td>\n",
              "    </tr>\n",
              "    <tr>\n",
              "      <th>H3AcK18_N</th>\n",
              "      <td>-0.406055</td>\n",
              "      <td>-0.354554</td>\n",
              "      <td>-0.207555</td>\n",
              "      <td>-0.253118</td>\n",
              "      <td>-0.292016</td>\n",
              "      <td>0.317508</td>\n",
              "      <td>0.256479</td>\n",
              "      <td>0.229161</td>\n",
              "      <td>0.176392</td>\n",
              "      <td>-0.234061</td>\n",
              "      <td>...</td>\n",
              "      <td>0.121694</td>\n",
              "      <td>0.406723</td>\n",
              "      <td>0.323245</td>\n",
              "      <td>0.224768</td>\n",
              "      <td>0.216137</td>\n",
              "      <td>0.131303</td>\n",
              "      <td>1.000000</td>\n",
              "      <td>0.355167</td>\n",
              "      <td>0.744541</td>\n",
              "      <td>-0.263963</td>\n",
              "    </tr>\n",
              "    <tr>\n",
              "      <th>EGR1_N</th>\n",
              "      <td>-0.324198</td>\n",
              "      <td>-0.403525</td>\n",
              "      <td>-0.247121</td>\n",
              "      <td>-0.287997</td>\n",
              "      <td>-0.326056</td>\n",
              "      <td>0.313131</td>\n",
              "      <td>0.366838</td>\n",
              "      <td>0.137520</td>\n",
              "      <td>-0.124001</td>\n",
              "      <td>-0.199574</td>\n",
              "      <td>...</td>\n",
              "      <td>0.417847</td>\n",
              "      <td>0.831734</td>\n",
              "      <td>0.847950</td>\n",
              "      <td>0.291173</td>\n",
              "      <td>0.744911</td>\n",
              "      <td>0.093264</td>\n",
              "      <td>0.355167</td>\n",
              "      <td>1.000000</td>\n",
              "      <td>0.774110</td>\n",
              "      <td>-0.487640</td>\n",
              "    </tr>\n",
              "    <tr>\n",
              "      <th>H3MeK4_N</th>\n",
              "      <td>-0.518361</td>\n",
              "      <td>-0.558266</td>\n",
              "      <td>-0.331191</td>\n",
              "      <td>-0.404977</td>\n",
              "      <td>-0.468892</td>\n",
              "      <td>0.372945</td>\n",
              "      <td>0.378236</td>\n",
              "      <td>0.080201</td>\n",
              "      <td>-0.004925</td>\n",
              "      <td>-0.277739</td>\n",
              "      <td>...</td>\n",
              "      <td>0.268944</td>\n",
              "      <td>0.717214</td>\n",
              "      <td>0.688121</td>\n",
              "      <td>0.307902</td>\n",
              "      <td>0.594812</td>\n",
              "      <td>0.001912</td>\n",
              "      <td>0.744541</td>\n",
              "      <td>0.774110</td>\n",
              "      <td>1.000000</td>\n",
              "      <td>-0.452618</td>\n",
              "    </tr>\n",
              "    <tr>\n",
              "      <th>CaNA_N</th>\n",
              "      <td>0.457907</td>\n",
              "      <td>0.495085</td>\n",
              "      <td>0.304098</td>\n",
              "      <td>0.205033</td>\n",
              "      <td>0.185840</td>\n",
              "      <td>-0.245944</td>\n",
              "      <td>-0.204640</td>\n",
              "      <td>-0.361215</td>\n",
              "      <td>0.054356</td>\n",
              "      <td>0.223832</td>\n",
              "      <td>...</td>\n",
              "      <td>-0.166451</td>\n",
              "      <td>-0.281972</td>\n",
              "      <td>-0.299074</td>\n",
              "      <td>-0.415155</td>\n",
              "      <td>-0.314474</td>\n",
              "      <td>0.273142</td>\n",
              "      <td>-0.263963</td>\n",
              "      <td>-0.487640</td>\n",
              "      <td>-0.452618</td>\n",
              "      <td>1.000000</td>\n",
              "    </tr>\n",
              "  </tbody>\n",
              "</table>\n",
              "<p>77 rows × 77 columns</p>\n",
              "</div>\n",
              "      <button class=\"colab-df-convert\" onclick=\"convertToInteractive('df-6c47e192-e3f1-4a19-a603-646e52309c7b')\"\n",
              "              title=\"Convert this dataframe to an interactive table.\"\n",
              "              style=\"display:none;\">\n",
              "        \n",
              "  <svg xmlns=\"http://www.w3.org/2000/svg\" height=\"24px\"viewBox=\"0 0 24 24\"\n",
              "       width=\"24px\">\n",
              "    <path d=\"M0 0h24v24H0V0z\" fill=\"none\"/>\n",
              "    <path d=\"M18.56 5.44l.94 2.06.94-2.06 2.06-.94-2.06-.94-.94-2.06-.94 2.06-2.06.94zm-11 1L8.5 8.5l.94-2.06 2.06-.94-2.06-.94L8.5 2.5l-.94 2.06-2.06.94zm10 10l.94 2.06.94-2.06 2.06-.94-2.06-.94-.94-2.06-.94 2.06-2.06.94z\"/><path d=\"M17.41 7.96l-1.37-1.37c-.4-.4-.92-.59-1.43-.59-.52 0-1.04.2-1.43.59L10.3 9.45l-7.72 7.72c-.78.78-.78 2.05 0 2.83L4 21.41c.39.39.9.59 1.41.59.51 0 1.02-.2 1.41-.59l7.78-7.78 2.81-2.81c.8-.78.8-2.07 0-2.86zM5.41 20L4 18.59l7.72-7.72 1.47 1.35L5.41 20z\"/>\n",
              "  </svg>\n",
              "      </button>\n",
              "      \n",
              "  <style>\n",
              "    .colab-df-container {\n",
              "      display:flex;\n",
              "      flex-wrap:wrap;\n",
              "      gap: 12px;\n",
              "    }\n",
              "\n",
              "    .colab-df-convert {\n",
              "      background-color: #E8F0FE;\n",
              "      border: none;\n",
              "      border-radius: 50%;\n",
              "      cursor: pointer;\n",
              "      display: none;\n",
              "      fill: #1967D2;\n",
              "      height: 32px;\n",
              "      padding: 0 0 0 0;\n",
              "      width: 32px;\n",
              "    }\n",
              "\n",
              "    .colab-df-convert:hover {\n",
              "      background-color: #E2EBFA;\n",
              "      box-shadow: 0px 1px 2px rgba(60, 64, 67, 0.3), 0px 1px 3px 1px rgba(60, 64, 67, 0.15);\n",
              "      fill: #174EA6;\n",
              "    }\n",
              "\n",
              "    [theme=dark] .colab-df-convert {\n",
              "      background-color: #3B4455;\n",
              "      fill: #D2E3FC;\n",
              "    }\n",
              "\n",
              "    [theme=dark] .colab-df-convert:hover {\n",
              "      background-color: #434B5C;\n",
              "      box-shadow: 0px 1px 3px 1px rgba(0, 0, 0, 0.15);\n",
              "      filter: drop-shadow(0px 1px 2px rgba(0, 0, 0, 0.3));\n",
              "      fill: #FFFFFF;\n",
              "    }\n",
              "  </style>\n",
              "\n",
              "      <script>\n",
              "        const buttonEl =\n",
              "          document.querySelector('#df-6c47e192-e3f1-4a19-a603-646e52309c7b button.colab-df-convert');\n",
              "        buttonEl.style.display =\n",
              "          google.colab.kernel.accessAllowed ? 'block' : 'none';\n",
              "\n",
              "        async function convertToInteractive(key) {\n",
              "          const element = document.querySelector('#df-6c47e192-e3f1-4a19-a603-646e52309c7b');\n",
              "          const dataTable =\n",
              "            await google.colab.kernel.invokeFunction('convertToInteractive',\n",
              "                                                     [key], {});\n",
              "          if (!dataTable) return;\n",
              "\n",
              "          const docLinkHtml = 'Like what you see? Visit the ' +\n",
              "            '<a target=\"_blank\" href=https://colab.research.google.com/notebooks/data_table.ipynb>data table notebook</a>'\n",
              "            + ' to learn more about interactive tables.';\n",
              "          element.innerHTML = '';\n",
              "          dataTable['output_type'] = 'display_data';\n",
              "          await google.colab.output.renderOutput(dataTable, element);\n",
              "          const docLink = document.createElement('div');\n",
              "          docLink.innerHTML = docLinkHtml;\n",
              "          element.appendChild(docLink);\n",
              "        }\n",
              "      </script>\n",
              "    </div>\n",
              "  </div>\n",
              "  "
            ]
          },
          "metadata": {},
          "execution_count": 22
        }
      ],
      "source": [
        "\n",
        "import seaborn as sns\n",
        "# Finding the correlation matrix for the features of the Data matrix X_Data\n",
        "corr_Matrix = X_data.corr()\n",
        "corr_Matrix"
      ]
    },
    {
      "cell_type": "code",
      "execution_count": 23,
      "metadata": {
        "id": "alVwaqWUcbC5"
      },
      "outputs": [],
      "source": [
        "def Find_Correlated_Features(data_matrix, threshold): #Function to calculate the Correlated feature                                     # Define correlation function\n",
        "    corr_feature = set()  #an empty set is created\n",
        "    corr_matrix = data_matrix.corr()   # Correlation Matrix is formed\n",
        "    #The below for loop is finding correlation of each feature with another feature and storing the Correlated features ehich have correlation above threshold  \n",
        "    for i in range(len(corr_matrix)):  \n",
        "        for j in range(i):\n",
        "            if abs(corr_matrix.iloc[i, j]) > threshold:  # Comparing the Correlation of features with the threshold\n",
        "                feature = corr_matrix.columns[i]  #Retrieving the correlated feauture above threshold From the Data matrix\n",
        "                corr_feature.add(feature)    #Adding Correlated Feature above threshold\n",
        "    return corr_feature    # Function returning the Correlated feautures above threshold"
      ]
    },
    {
      "cell_type": "code",
      "execution_count": 24,
      "metadata": {
        "colab": {
          "base_uri": "https://localhost:8080/"
        },
        "id": "mjyejstocfOm",
        "outputId": "c19c5a97-48e9-4ab4-b615-9db72d5bc215"
      },
      "outputs": [
        {
          "output_type": "stream",
          "name": "stdout",
          "text": [
            "Number of highly correlated features: 7\n",
            "{'pNR2B_N', 'pS6_N', 'pNR1_N', 'BRAF_N', 'Bcatenin_N', 'pERK_N', 'ITSN1_N'}\n"
          ]
        }
      ],
      "source": [
        "# Calling the function to return the feature which are correlated above the threshold value of 0.9\n",
        "corr_features = Find_Correlated_Features(X_data, 0.9)\n",
        "\n",
        "print('Number of highly correlated features:', len(corr_features))\n",
        "print(corr_features)"
      ]
    },
    {
      "cell_type": "code",
      "execution_count": 25,
      "metadata": {
        "colab": {
          "base_uri": "https://localhost:8080/"
        },
        "id": "38LnO2gKckI1",
        "outputId": "a98f37d5-2052-4810-fedf-f4475b6a9115"
      },
      "outputs": [
        {
          "output_type": "stream",
          "name": "stdout",
          "text": [
            "{'pNR2B_N', 'pS6_N', 'pNR1_N', 'BRAF_N', 'Bcatenin_N', 'ITSN1_N'}\n"
          ]
        }
      ],
      "source": [
        "#Removing the 'pERK_N' feature from the Correlated features\n",
        "corr_features.remove('pERK_N')\n",
        "print(corr_features)"
      ]
    },
    {
      "cell_type": "code",
      "execution_count": 26,
      "metadata": {
        "id": "C4MQsqvKcnqw",
        "colab": {
          "base_uri": "https://localhost:8080/",
          "height": 487
        },
        "outputId": "ef4e22e8-70e7-4841-e7ec-314765200a16"
      },
      "outputs": [
        {
          "output_type": "execute_result",
          "data": {
            "text/plain": [
              "     DYRK1A_N    BDNF_N     NR1_N    NR2A_N    pAKT_N   pBRAF_N  pCAMKII_N  \\\n",
              "0    0.503644  0.430175  2.816329  5.990152  0.218830  0.177565   2.373744   \n",
              "1    0.514617  0.411770  2.789514  5.685038  0.211636  0.172817   2.292150   \n",
              "2    0.509183  0.418309  2.687201  5.622059  0.209011  0.175722   2.283337   \n",
              "3    0.442107  0.358626  2.466947  4.979503  0.222886  0.176463   2.152301   \n",
              "4    0.434940  0.358802  2.365785  4.718679  0.213106  0.173627   2.134014   \n",
              "..        ...       ...       ...       ...       ...       ...        ...   \n",
              "757  0.394169  0.316564  2.104045  3.314706  0.234529  0.200657   3.208804   \n",
              "758  0.401739  0.321841  2.183930  3.411782  0.236546  0.190826   3.384350   \n",
              "759  0.382182  0.318545  2.072000  3.073636  0.259636  0.202727   3.006364   \n",
              "760  0.365622  0.297992  2.004931  2.783551  0.245333  0.190384   2.948221   \n",
              "761  0.365605  0.301539  2.062813  2.952577  0.248568  0.198819   3.069435   \n",
              "\n",
              "      pCREB_N    pELK_N    pERK_N  ...  pGSK3B_Tyr216_N     SHH_N     BAD_N  \\\n",
              "0    0.232224  1.750936  0.687906  ...         0.831557  0.188852  0.122652   \n",
              "1    0.226972  1.596377  0.695006  ...         0.849270  0.200404  0.116682   \n",
              "2    0.230247  1.561316  0.677348  ...         0.846709  0.193685  0.118508   \n",
              "3    0.207004  1.595086  0.583277  ...         0.833277  0.192112  0.132781   \n",
              "4    0.192158  1.504230  0.550960  ...         0.878668  0.205604  0.129954   \n",
              "..        ...       ...       ...  ...              ...       ...       ...   \n",
              "757  0.221809  1.218951  0.467915  ...         1.001404  0.216128  0.156371   \n",
              "758  0.231899  1.250487  0.476240  ...         1.043402  0.209717  0.153224   \n",
              "759  0.223455  1.248727  0.442727  ...         0.948795  0.211279  0.166417   \n",
              "760  0.217506  1.177527  0.432371  ...         0.995884  0.197436  0.158631   \n",
              "761  0.226736  1.220472  0.436471  ...         1.031482  0.225640  0.172492   \n",
              "\n",
              "       BCL2_N   pCFOS_N     SYP_N  H3AcK18_N    EGR1_N  H3MeK4_N    CaNA_N  \n",
              "0         NaN  0.108336  0.427099   0.114783  0.131790  0.128186  1.675652  \n",
              "1         NaN  0.104315  0.441581   0.111974  0.135103  0.131119  1.743610  \n",
              "2         NaN  0.106219  0.435777   0.111883  0.133362  0.127431  1.926427  \n",
              "3         NaN  0.111262  0.391691   0.130405  0.147444  0.146901  1.700563  \n",
              "4         NaN  0.110694  0.434154   0.118481  0.140314  0.148380  1.839730  \n",
              "..        ...       ...       ...        ...       ...       ...       ...  \n",
              "757  0.110916  0.115567  0.441207   0.148473  0.146192  0.190681  1.474465  \n",
              "758  0.110350  0.108944  0.444913   0.153137  0.149798  0.197944  1.516605  \n",
              "759  0.133664  0.114635  0.422789   0.148426  0.163649  0.191212  1.433514  \n",
              "760  0.136994  0.120649  0.459901   0.146872  0.140640  0.213899  1.543274  \n",
              "761  0.120182  0.110486  0.424228   0.173689  0.166268  0.206129  1.520110  \n",
              "\n",
              "[762 rows x 71 columns]"
            ],
            "text/html": [
              "\n",
              "  <div id=\"df-2c48a701-4a27-4e96-8f6a-a1df49091b9a\">\n",
              "    <div class=\"colab-df-container\">\n",
              "      <div>\n",
              "<style scoped>\n",
              "    .dataframe tbody tr th:only-of-type {\n",
              "        vertical-align: middle;\n",
              "    }\n",
              "\n",
              "    .dataframe tbody tr th {\n",
              "        vertical-align: top;\n",
              "    }\n",
              "\n",
              "    .dataframe thead th {\n",
              "        text-align: right;\n",
              "    }\n",
              "</style>\n",
              "<table border=\"1\" class=\"dataframe\">\n",
              "  <thead>\n",
              "    <tr style=\"text-align: right;\">\n",
              "      <th></th>\n",
              "      <th>DYRK1A_N</th>\n",
              "      <th>BDNF_N</th>\n",
              "      <th>NR1_N</th>\n",
              "      <th>NR2A_N</th>\n",
              "      <th>pAKT_N</th>\n",
              "      <th>pBRAF_N</th>\n",
              "      <th>pCAMKII_N</th>\n",
              "      <th>pCREB_N</th>\n",
              "      <th>pELK_N</th>\n",
              "      <th>pERK_N</th>\n",
              "      <th>...</th>\n",
              "      <th>pGSK3B_Tyr216_N</th>\n",
              "      <th>SHH_N</th>\n",
              "      <th>BAD_N</th>\n",
              "      <th>BCL2_N</th>\n",
              "      <th>pCFOS_N</th>\n",
              "      <th>SYP_N</th>\n",
              "      <th>H3AcK18_N</th>\n",
              "      <th>EGR1_N</th>\n",
              "      <th>H3MeK4_N</th>\n",
              "      <th>CaNA_N</th>\n",
              "    </tr>\n",
              "  </thead>\n",
              "  <tbody>\n",
              "    <tr>\n",
              "      <th>0</th>\n",
              "      <td>0.503644</td>\n",
              "      <td>0.430175</td>\n",
              "      <td>2.816329</td>\n",
              "      <td>5.990152</td>\n",
              "      <td>0.218830</td>\n",
              "      <td>0.177565</td>\n",
              "      <td>2.373744</td>\n",
              "      <td>0.232224</td>\n",
              "      <td>1.750936</td>\n",
              "      <td>0.687906</td>\n",
              "      <td>...</td>\n",
              "      <td>0.831557</td>\n",
              "      <td>0.188852</td>\n",
              "      <td>0.122652</td>\n",
              "      <td>NaN</td>\n",
              "      <td>0.108336</td>\n",
              "      <td>0.427099</td>\n",
              "      <td>0.114783</td>\n",
              "      <td>0.131790</td>\n",
              "      <td>0.128186</td>\n",
              "      <td>1.675652</td>\n",
              "    </tr>\n",
              "    <tr>\n",
              "      <th>1</th>\n",
              "      <td>0.514617</td>\n",
              "      <td>0.411770</td>\n",
              "      <td>2.789514</td>\n",
              "      <td>5.685038</td>\n",
              "      <td>0.211636</td>\n",
              "      <td>0.172817</td>\n",
              "      <td>2.292150</td>\n",
              "      <td>0.226972</td>\n",
              "      <td>1.596377</td>\n",
              "      <td>0.695006</td>\n",
              "      <td>...</td>\n",
              "      <td>0.849270</td>\n",
              "      <td>0.200404</td>\n",
              "      <td>0.116682</td>\n",
              "      <td>NaN</td>\n",
              "      <td>0.104315</td>\n",
              "      <td>0.441581</td>\n",
              "      <td>0.111974</td>\n",
              "      <td>0.135103</td>\n",
              "      <td>0.131119</td>\n",
              "      <td>1.743610</td>\n",
              "    </tr>\n",
              "    <tr>\n",
              "      <th>2</th>\n",
              "      <td>0.509183</td>\n",
              "      <td>0.418309</td>\n",
              "      <td>2.687201</td>\n",
              "      <td>5.622059</td>\n",
              "      <td>0.209011</td>\n",
              "      <td>0.175722</td>\n",
              "      <td>2.283337</td>\n",
              "      <td>0.230247</td>\n",
              "      <td>1.561316</td>\n",
              "      <td>0.677348</td>\n",
              "      <td>...</td>\n",
              "      <td>0.846709</td>\n",
              "      <td>0.193685</td>\n",
              "      <td>0.118508</td>\n",
              "      <td>NaN</td>\n",
              "      <td>0.106219</td>\n",
              "      <td>0.435777</td>\n",
              "      <td>0.111883</td>\n",
              "      <td>0.133362</td>\n",
              "      <td>0.127431</td>\n",
              "      <td>1.926427</td>\n",
              "    </tr>\n",
              "    <tr>\n",
              "      <th>3</th>\n",
              "      <td>0.442107</td>\n",
              "      <td>0.358626</td>\n",
              "      <td>2.466947</td>\n",
              "      <td>4.979503</td>\n",
              "      <td>0.222886</td>\n",
              "      <td>0.176463</td>\n",
              "      <td>2.152301</td>\n",
              "      <td>0.207004</td>\n",
              "      <td>1.595086</td>\n",
              "      <td>0.583277</td>\n",
              "      <td>...</td>\n",
              "      <td>0.833277</td>\n",
              "      <td>0.192112</td>\n",
              "      <td>0.132781</td>\n",
              "      <td>NaN</td>\n",
              "      <td>0.111262</td>\n",
              "      <td>0.391691</td>\n",
              "      <td>0.130405</td>\n",
              "      <td>0.147444</td>\n",
              "      <td>0.146901</td>\n",
              "      <td>1.700563</td>\n",
              "    </tr>\n",
              "    <tr>\n",
              "      <th>4</th>\n",
              "      <td>0.434940</td>\n",
              "      <td>0.358802</td>\n",
              "      <td>2.365785</td>\n",
              "      <td>4.718679</td>\n",
              "      <td>0.213106</td>\n",
              "      <td>0.173627</td>\n",
              "      <td>2.134014</td>\n",
              "      <td>0.192158</td>\n",
              "      <td>1.504230</td>\n",
              "      <td>0.550960</td>\n",
              "      <td>...</td>\n",
              "      <td>0.878668</td>\n",
              "      <td>0.205604</td>\n",
              "      <td>0.129954</td>\n",
              "      <td>NaN</td>\n",
              "      <td>0.110694</td>\n",
              "      <td>0.434154</td>\n",
              "      <td>0.118481</td>\n",
              "      <td>0.140314</td>\n",
              "      <td>0.148380</td>\n",
              "      <td>1.839730</td>\n",
              "    </tr>\n",
              "    <tr>\n",
              "      <th>...</th>\n",
              "      <td>...</td>\n",
              "      <td>...</td>\n",
              "      <td>...</td>\n",
              "      <td>...</td>\n",
              "      <td>...</td>\n",
              "      <td>...</td>\n",
              "      <td>...</td>\n",
              "      <td>...</td>\n",
              "      <td>...</td>\n",
              "      <td>...</td>\n",
              "      <td>...</td>\n",
              "      <td>...</td>\n",
              "      <td>...</td>\n",
              "      <td>...</td>\n",
              "      <td>...</td>\n",
              "      <td>...</td>\n",
              "      <td>...</td>\n",
              "      <td>...</td>\n",
              "      <td>...</td>\n",
              "      <td>...</td>\n",
              "      <td>...</td>\n",
              "    </tr>\n",
              "    <tr>\n",
              "      <th>757</th>\n",
              "      <td>0.394169</td>\n",
              "      <td>0.316564</td>\n",
              "      <td>2.104045</td>\n",
              "      <td>3.314706</td>\n",
              "      <td>0.234529</td>\n",
              "      <td>0.200657</td>\n",
              "      <td>3.208804</td>\n",
              "      <td>0.221809</td>\n",
              "      <td>1.218951</td>\n",
              "      <td>0.467915</td>\n",
              "      <td>...</td>\n",
              "      <td>1.001404</td>\n",
              "      <td>0.216128</td>\n",
              "      <td>0.156371</td>\n",
              "      <td>0.110916</td>\n",
              "      <td>0.115567</td>\n",
              "      <td>0.441207</td>\n",
              "      <td>0.148473</td>\n",
              "      <td>0.146192</td>\n",
              "      <td>0.190681</td>\n",
              "      <td>1.474465</td>\n",
              "    </tr>\n",
              "    <tr>\n",
              "      <th>758</th>\n",
              "      <td>0.401739</td>\n",
              "      <td>0.321841</td>\n",
              "      <td>2.183930</td>\n",
              "      <td>3.411782</td>\n",
              "      <td>0.236546</td>\n",
              "      <td>0.190826</td>\n",
              "      <td>3.384350</td>\n",
              "      <td>0.231899</td>\n",
              "      <td>1.250487</td>\n",
              "      <td>0.476240</td>\n",
              "      <td>...</td>\n",
              "      <td>1.043402</td>\n",
              "      <td>0.209717</td>\n",
              "      <td>0.153224</td>\n",
              "      <td>0.110350</td>\n",
              "      <td>0.108944</td>\n",
              "      <td>0.444913</td>\n",
              "      <td>0.153137</td>\n",
              "      <td>0.149798</td>\n",
              "      <td>0.197944</td>\n",
              "      <td>1.516605</td>\n",
              "    </tr>\n",
              "    <tr>\n",
              "      <th>759</th>\n",
              "      <td>0.382182</td>\n",
              "      <td>0.318545</td>\n",
              "      <td>2.072000</td>\n",
              "      <td>3.073636</td>\n",
              "      <td>0.259636</td>\n",
              "      <td>0.202727</td>\n",
              "      <td>3.006364</td>\n",
              "      <td>0.223455</td>\n",
              "      <td>1.248727</td>\n",
              "      <td>0.442727</td>\n",
              "      <td>...</td>\n",
              "      <td>0.948795</td>\n",
              "      <td>0.211279</td>\n",
              "      <td>0.166417</td>\n",
              "      <td>0.133664</td>\n",
              "      <td>0.114635</td>\n",
              "      <td>0.422789</td>\n",
              "      <td>0.148426</td>\n",
              "      <td>0.163649</td>\n",
              "      <td>0.191212</td>\n",
              "      <td>1.433514</td>\n",
              "    </tr>\n",
              "    <tr>\n",
              "      <th>760</th>\n",
              "      <td>0.365622</td>\n",
              "      <td>0.297992</td>\n",
              "      <td>2.004931</td>\n",
              "      <td>2.783551</td>\n",
              "      <td>0.245333</td>\n",
              "      <td>0.190384</td>\n",
              "      <td>2.948221</td>\n",
              "      <td>0.217506</td>\n",
              "      <td>1.177527</td>\n",
              "      <td>0.432371</td>\n",
              "      <td>...</td>\n",
              "      <td>0.995884</td>\n",
              "      <td>0.197436</td>\n",
              "      <td>0.158631</td>\n",
              "      <td>0.136994</td>\n",
              "      <td>0.120649</td>\n",
              "      <td>0.459901</td>\n",
              "      <td>0.146872</td>\n",
              "      <td>0.140640</td>\n",
              "      <td>0.213899</td>\n",
              "      <td>1.543274</td>\n",
              "    </tr>\n",
              "    <tr>\n",
              "      <th>761</th>\n",
              "      <td>0.365605</td>\n",
              "      <td>0.301539</td>\n",
              "      <td>2.062813</td>\n",
              "      <td>2.952577</td>\n",
              "      <td>0.248568</td>\n",
              "      <td>0.198819</td>\n",
              "      <td>3.069435</td>\n",
              "      <td>0.226736</td>\n",
              "      <td>1.220472</td>\n",
              "      <td>0.436471</td>\n",
              "      <td>...</td>\n",
              "      <td>1.031482</td>\n",
              "      <td>0.225640</td>\n",
              "      <td>0.172492</td>\n",
              "      <td>0.120182</td>\n",
              "      <td>0.110486</td>\n",
              "      <td>0.424228</td>\n",
              "      <td>0.173689</td>\n",
              "      <td>0.166268</td>\n",
              "      <td>0.206129</td>\n",
              "      <td>1.520110</td>\n",
              "    </tr>\n",
              "  </tbody>\n",
              "</table>\n",
              "<p>762 rows × 71 columns</p>\n",
              "</div>\n",
              "      <button class=\"colab-df-convert\" onclick=\"convertToInteractive('df-2c48a701-4a27-4e96-8f6a-a1df49091b9a')\"\n",
              "              title=\"Convert this dataframe to an interactive table.\"\n",
              "              style=\"display:none;\">\n",
              "        \n",
              "  <svg xmlns=\"http://www.w3.org/2000/svg\" height=\"24px\"viewBox=\"0 0 24 24\"\n",
              "       width=\"24px\">\n",
              "    <path d=\"M0 0h24v24H0V0z\" fill=\"none\"/>\n",
              "    <path d=\"M18.56 5.44l.94 2.06.94-2.06 2.06-.94-2.06-.94-.94-2.06-.94 2.06-2.06.94zm-11 1L8.5 8.5l.94-2.06 2.06-.94-2.06-.94L8.5 2.5l-.94 2.06-2.06.94zm10 10l.94 2.06.94-2.06 2.06-.94-2.06-.94-.94-2.06-.94 2.06-2.06.94z\"/><path d=\"M17.41 7.96l-1.37-1.37c-.4-.4-.92-.59-1.43-.59-.52 0-1.04.2-1.43.59L10.3 9.45l-7.72 7.72c-.78.78-.78 2.05 0 2.83L4 21.41c.39.39.9.59 1.41.59.51 0 1.02-.2 1.41-.59l7.78-7.78 2.81-2.81c.8-.78.8-2.07 0-2.86zM5.41 20L4 18.59l7.72-7.72 1.47 1.35L5.41 20z\"/>\n",
              "  </svg>\n",
              "      </button>\n",
              "      \n",
              "  <style>\n",
              "    .colab-df-container {\n",
              "      display:flex;\n",
              "      flex-wrap:wrap;\n",
              "      gap: 12px;\n",
              "    }\n",
              "\n",
              "    .colab-df-convert {\n",
              "      background-color: #E8F0FE;\n",
              "      border: none;\n",
              "      border-radius: 50%;\n",
              "      cursor: pointer;\n",
              "      display: none;\n",
              "      fill: #1967D2;\n",
              "      height: 32px;\n",
              "      padding: 0 0 0 0;\n",
              "      width: 32px;\n",
              "    }\n",
              "\n",
              "    .colab-df-convert:hover {\n",
              "      background-color: #E2EBFA;\n",
              "      box-shadow: 0px 1px 2px rgba(60, 64, 67, 0.3), 0px 1px 3px 1px rgba(60, 64, 67, 0.15);\n",
              "      fill: #174EA6;\n",
              "    }\n",
              "\n",
              "    [theme=dark] .colab-df-convert {\n",
              "      background-color: #3B4455;\n",
              "      fill: #D2E3FC;\n",
              "    }\n",
              "\n",
              "    [theme=dark] .colab-df-convert:hover {\n",
              "      background-color: #434B5C;\n",
              "      box-shadow: 0px 1px 3px 1px rgba(0, 0, 0, 0.15);\n",
              "      filter: drop-shadow(0px 1px 2px rgba(0, 0, 0, 0.3));\n",
              "      fill: #FFFFFF;\n",
              "    }\n",
              "  </style>\n",
              "\n",
              "      <script>\n",
              "        const buttonEl =\n",
              "          document.querySelector('#df-2c48a701-4a27-4e96-8f6a-a1df49091b9a button.colab-df-convert');\n",
              "        buttonEl.style.display =\n",
              "          google.colab.kernel.accessAllowed ? 'block' : 'none';\n",
              "\n",
              "        async function convertToInteractive(key) {\n",
              "          const element = document.querySelector('#df-2c48a701-4a27-4e96-8f6a-a1df49091b9a');\n",
              "          const dataTable =\n",
              "            await google.colab.kernel.invokeFunction('convertToInteractive',\n",
              "                                                     [key], {});\n",
              "          if (!dataTable) return;\n",
              "\n",
              "          const docLinkHtml = 'Like what you see? Visit the ' +\n",
              "            '<a target=\"_blank\" href=https://colab.research.google.com/notebooks/data_table.ipynb>data table notebook</a>'\n",
              "            + ' to learn more about interactive tables.';\n",
              "          element.innerHTML = '';\n",
              "          dataTable['output_type'] = 'display_data';\n",
              "          await google.colab.output.renderOutput(dataTable, element);\n",
              "          const docLink = document.createElement('div');\n",
              "          docLink.innerHTML = docLinkHtml;\n",
              "          element.appendChild(docLink);\n",
              "        }\n",
              "      </script>\n",
              "    </div>\n",
              "  </div>\n",
              "  "
            ]
          },
          "metadata": {},
          "execution_count": 26
        }
      ],
      "source": [
        "\n",
        "  # dropping here 6 out of 7 highly correlated features\n",
        "X_data_a = Data.drop(['Genotype', 'Treatment_Behavior','pS6_N', 'ITSN1_N', 'BRAF_N', 'pNR1_N', 'Bcatenin_N', 'pNR2B_N'], axis = 1)\n",
        "X_data_a    # Printing the Data matrix "
      ]
    },
    {
      "cell_type": "markdown",
      "source": [
        "Reference:-https://www.projectpro.io/recipes/drop-out-highly-correlated-features-in-python"
      ],
      "metadata": {
        "id": "6Jp1x-3eN1cR"
      }
    },
    {
      "cell_type": "code",
      "execution_count": 29,
      "metadata": {
        "colab": {
          "base_uri": "https://localhost:8080/"
        },
        "id": "KCLp656hc2ZB",
        "outputId": "1857c5ba-fdcb-443f-a729-e6fe3974424b"
      },
      "outputs": [
        {
          "output_type": "stream",
          "name": "stdout",
          "text": [
            "Features or the columns od the Data matrix which contain more than 15 null values: {'BAD_N', 'H3AcK18_N', 'H3MeK4_N', 'BCL2_N', 'EGR1_N', 'pCFOS_N'}\n",
            "Final Data Matrix after removing the features:\n"
          ]
        },
        {
          "output_type": "execute_result",
          "data": {
            "text/plain": [
              "(     DYRK1A_N    BDNF_N     NR1_N    NR2A_N    pAKT_N   pBRAF_N  pCAMKII_N  \\\n",
              " 0    0.503644  0.430175  2.816329  5.990152  0.218830  0.177565   2.373744   \n",
              " 1    0.514617  0.411770  2.789514  5.685038  0.211636  0.172817   2.292150   \n",
              " 2    0.509183  0.418309  2.687201  5.622059  0.209011  0.175722   2.283337   \n",
              " 3    0.442107  0.358626  2.466947  4.979503  0.222886  0.176463   2.152301   \n",
              " 4    0.434940  0.358802  2.365785  4.718679  0.213106  0.173627   2.134014   \n",
              " ..        ...       ...       ...       ...       ...       ...        ...   \n",
              " 757  0.394169  0.316564  2.104045  3.314706  0.234529  0.200657   3.208804   \n",
              " 758  0.401739  0.321841  2.183930  3.411782  0.236546  0.190826   3.384350   \n",
              " 759  0.382182  0.318545  2.072000  3.073636  0.259636  0.202727   3.006364   \n",
              " 760  0.365622  0.297992  2.004931  2.783551  0.245333  0.190384   2.948221   \n",
              " 761  0.365605  0.301539  2.062813  2.952577  0.248568  0.198819   3.069435   \n",
              " \n",
              "       pCREB_N    pELK_N    pERK_N  ...    IL1B_N   P3525_N  pCASP9_N  \\\n",
              " 0    0.232224  1.750936  0.687906  ...  0.430957  0.247538  1.603310   \n",
              " 1    0.226972  1.596377  0.695006  ...  0.457156  0.257632  1.671738   \n",
              " 2    0.230247  1.561316  0.677348  ...  0.510472  0.255343  1.663550   \n",
              " 3    0.207004  1.595086  0.583277  ...  0.430996  0.251103  1.484624   \n",
              " 4    0.192158  1.504230  0.550960  ...  0.481227  0.251773  1.534835   \n",
              " ..        ...       ...       ...  ...       ...       ...       ...   \n",
              " 757  0.221809  1.218951  0.467915  ...  0.498420  0.311337  1.622850   \n",
              " 758  0.231899  1.250487  0.476240  ...  0.532683  0.315762  1.657617   \n",
              " 759  0.223455  1.248727  0.442727  ...  0.474109  0.308615  1.504094   \n",
              " 760  0.217506  1.177527  0.432371  ...  0.528104  0.327140  1.568203   \n",
              " 761  0.226736  1.220472  0.436471  ...  0.540938  0.325593  1.694039   \n",
              " \n",
              "       PSD95_N    SNCA_N  Ubiquitin_N  pGSK3B_Tyr216_N     SHH_N     SYP_N  \\\n",
              " 0    2.014875  0.108234     1.044979         0.831557  0.188852  0.427099   \n",
              " 1    2.004605  0.109749     1.009883         0.849270  0.200404  0.441581   \n",
              " 2    2.016831  0.108196     0.996848         0.846709  0.193685  0.435777   \n",
              " 3    1.957233  0.119883     0.990225         0.833277  0.192112  0.391691   \n",
              " 4    2.009109  0.119524     0.997775         0.878668  0.205604  0.434154   \n",
              " ..        ...       ...          ...              ...       ...       ...   \n",
              " 757  2.236925  0.149263     1.136276         1.001404  0.216128  0.441207   \n",
              " 758  2.274556  0.154894     1.154191         1.043402  0.209717  0.444913   \n",
              " 759  2.107139  0.153154     1.195479         0.948795  0.211279  0.422789   \n",
              " 760  2.212959  0.154868     1.213194         0.995884  0.197436  0.459901   \n",
              " 761  2.293512  0.155016     1.284654         1.031482  0.225640  0.424228   \n",
              " \n",
              "        CaNA_N  \n",
              " 0    1.675652  \n",
              " 1    1.743610  \n",
              " 2    1.926427  \n",
              " 3    1.700563  \n",
              " 4    1.839730  \n",
              " ..        ...  \n",
              " 757  1.474465  \n",
              " 758  1.516605  \n",
              " 759  1.433514  \n",
              " 760  1.543274  \n",
              " 761  1.520110  \n",
              " \n",
              " [762 rows x 65 columns],\n",
              " {'BAD_N', 'BCL2_N', 'EGR1_N', 'H3AcK18_N', 'H3MeK4_N', 'pCFOS_N'})"
            ]
          },
          "metadata": {},
          "execution_count": 29
        }
      ],
      "source": [
        "# Here the function drop_Null is created to drop the features which are having more than 15 null values\n",
        "def drop_Null(Data1_mat, threshold):   # Function drop_Null is defined\n",
        "    Null_count = Data1_mat.isna().sum() # Null_Count is the array in which the no. of Null values in each column is stored\n",
        "    Null_Feature = set()  #Null_Feature is the empty set created\n",
        "    for i in range(len(Null_count)):   # For loop is run upto the length of the Null_count \n",
        "        if Null_count[i] > threshold: # Checking for is column that if no. of null values is greater than some threshold\n",
        "            Null_Feature.add(Data1_mat.columns[i])  # if condition is satisfied then adding that perticular feature to Null_Feature\n",
        "        \n",
        "    print('Features or the columns od the Data matrix which contain more than', threshold, 'null values:', Null_Feature)\n",
        "    Data1_mat = Data1_mat.drop(Null_Feature, axis = 1)     # dropping the features having more 1 null values\n",
        "    print('Final Data Matrix after removing the features:')\n",
        "    return Data1_mat,Null_Feature    # Returning the final data matrix and the Null feature which are dropped\n",
        "            \n",
        "X_data = drop_Null(X_data_a, 15)\n",
        "X_data"
      ]
    },
    {
      "cell_type": "markdown",
      "source": [
        "References:- Took Help from one of my Friend Nayan to remove features with more null values , Roll no.:-22M1200"
      ],
      "metadata": {
        "id": "iXHs_x_OPARR"
      }
    },
    {
      "cell_type": "code",
      "execution_count": 30,
      "metadata": {
        "colab": {
          "base_uri": "https://localhost:8080/"
        },
        "id": "OLZibZhCpMpQ",
        "outputId": "fbfabe52-4149-4b57-8a27-5a3680ab3f43"
      },
      "outputs": [
        {
          "output_type": "execute_result",
          "data": {
            "text/plain": [
              "Control    435\n",
              "Ts65Dn     327\n",
              "Name: Genotype, dtype: int64"
            ]
          },
          "metadata": {},
          "execution_count": 30
        }
      ],
      "source": [
        "Data['Genotype'].value_counts()\n"
      ]
    },
    {
      "cell_type": "code",
      "execution_count": 31,
      "metadata": {
        "colab": {
          "base_uri": "https://localhost:8080/"
        },
        "id": "l1q2Mvktp1vJ",
        "outputId": "7ef00b81-a350-4d19-8578-b7cebbbd7e17"
      },
      "outputs": [
        {
          "output_type": "execute_result",
          "data": {
            "text/plain": [
              "Memantine_C/S    225\n",
              "Memantine_S/C    225\n",
              "Saline_C/S       180\n",
              "Saline_S/C       132\n",
              "Name: Treatment_Behavior, dtype: int64"
            ]
          },
          "metadata": {},
          "execution_count": 31
        }
      ],
      "source": [
        "Data['Treatment_Behavior'].value_counts()"
      ]
    },
    {
      "cell_type": "markdown",
      "metadata": {
        "id": "h26VkgK3fIWf"
      },
      "source": [
        "A) Which variables are usable, and which are not?\n",
        "\n",
        "\n",
        "> Variables which are highly correlated lets say more than 0.9 and the variables having null values greater than 15 . All these above mentioned variables are not usable.\n",
        "\n",
        "\n",
        "> Not usable variables are:-'pNR1_N', 'pNR2B_N', 'ITSN1_N', 'BRAF_N', 'Bcatenin_N', 'pS6_N','BAD_N', 'BCL2_N', 'H3AcK18_N', 'EGR1_N', 'H3MeK4_N', 'pCFOS_N'. \n",
        "\n",
        "\n",
        "> Other than the variables shown above are usables.\n",
        "\n",
        "\n",
        "\n",
        "B) Are there significant correlations among variables?\n",
        "\n",
        "> I have checked on the data for the correlation above 0.9. then it comes out to be that 7 following features are highly correlated.\n",
        "\n",
        "> {'pNR1_N', 'pNR2B_N', 'ITSN1_N', 'BRAF_N', 'pERK_N', 'Bcatenin_N', 'pS6_N'}\n",
        "\n",
        "\n",
        "C) Are the classes balanced?\n",
        "\n",
        "> For both the genotype and the treatment behaviour we can say that classes are balanced. because there is no significant difference between the no. of elements in each classes.\n",
        "\n",
        "\n"
      ]
    },
    {
      "cell_type": "markdown",
      "metadata": {
        "id": "i6PsB_4fsEBh"
      },
      "source": [
        "**3. Develop a strategy to deal with missing variables. You can choose to impute the variable. The recommended\n",
        "way is to use multivariate feature imputation** \n",
        "\n",
        "\n",
        "> Comment:- For Imputing using multivariate feature imputation we have used the  inbuilt Iterative imputer.\n",
        "\n"
      ]
    },
    {
      "cell_type": "code",
      "execution_count": 35,
      "metadata": {
        "id": "wGgk7HvOp8GI"
      },
      "outputs": [],
      "source": [
        "import numpy as np\n",
        "from sklearn.impute import SimpleImputer\n",
        "from sklearn.experimental import enable_iterative_imputer\n",
        "from sklearn.impute import IterativeImputer\n",
        " \n",
        "# Multi variate Imputing using iterated imputer is done \n",
        "imputed = IterativeImputer(max_iter=10, random_state=0)     # Iterative Imputer is used \n",
        "imputed.fit(X_data_a)                  # Imputing the X_data matrix \n",
        "imputed_data = pnd.DataFrame(data=imputed.transform(X_data_a), columns=X_data_a.columns)       # Storing data in the variable named imputed_data \n",
        "imputed_data.isnull().sum()    # Checking if there is any null values      \n",
        "Data_read = imputed_data\n"
      ]
    },
    {
      "cell_type": "markdown",
      "source": [
        "References:-https://scikit-learn.org/stable/modules/generated/sklearn.impute.IterativeImputer.html"
      ],
      "metadata": {
        "id": "9OTWO8q-RSSn"
      }
    },
    {
      "cell_type": "markdown",
      "metadata": {
        "id": "fQk5APPp2Jvf"
      },
      "source": [
        " **4. Select metrics that you will use, such as accuracy, F1 score, balanced accuracy, AUC etc. Remember, you\n",
        "have two separate classification tasks – one is binary, the other has four classes. You may have to do some\n",
        "reading about multi-class classification metrics.**\n",
        "\n",
        ">I have considered the accuracy for binary and F1 score for multi class as the metric\n",
        "\n"
      ]
    },
    {
      "cell_type": "markdown",
      "metadata": {
        "id": "Nba8wyhL2SZw"
      },
      "source": [
        " **5. Using five-fold cross-validation (you can use GridSearchCV from scikit-learn) to find the reasonable (I cannot\n",
        "say “best” because you have two separate classifications to perform) hyper-parameter settings for the\n",
        "following model types:**\n",
        "\n",
        "   a. Linear SVM with regularization as hyperparameter \n",
        "\n",
        "   b. RBF kernel SVM with kernel width and regularization as hyperparameters\n",
        "\n",
        "   c. Neural network with single ReLU hidden layer and Softmax output (hyperparameters: number of\n",
        "neurons, weight decay)\n",
        "\n",
        "   d. Random forest (max tree depth, max number of variables per node)**"
      ]
    },
    {
      "cell_type": "markdown",
      "metadata": {
        "id": "I_NBMZY75pT8"
      },
      "source": [
        "**Binary Classification** for Genotype,\n",
        "Accuracy is metric here\n",
        "\n"
      ]
    },
    {
      "cell_type": "code",
      "execution_count": 36,
      "metadata": {
        "colab": {
          "base_uri": "https://localhost:8080/"
        },
        "id": "-PpvMh94Px95",
        "outputId": "2d3bae7c-6b4a-4310-a40e-ac78da2519d0"
      },
      "outputs": [
        {
          "output_type": "stream",
          "name": "stdout",
          "text": [
            "Linear SVM: Best hyperparameters: {'C': 10}\n",
            "RBF SVM: Best hyperparameters: {'C': 10, 'gamma': 1}\n",
            "Neural Network: Best hyperparameters: {'alpha': 0.01, 'hidden_layer_sizes': (30,)}\n",
            "Random Forest: Best hyperparameters: {'max_depth': 10, 'max_features': 'log2'}\n"
          ]
        }
      ],
      "source": [
        "from sklearn.model_selection import GridSearchCV\n",
        "from sklearn.svm import LinearSVC, SVC\n",
        "from sklearn.neural_network import MLPClassifier\n",
        "from sklearn.ensemble import RandomForestClassifier\n",
        "from sklearn.linear_model import LogisticRegression\n",
        "from sklearn.model_selection import train_test_split\n",
        "from sklearn.metrics import accuracy_score\n",
        "from sklearn.exceptions import ConvergenceWarning\n",
        "import warnings\n",
        "\n",
        "warnings.filterwarnings(\"ignore\", category=ConvergenceWarning)\n",
        "\n",
        "X= Data_read  #Data_read is the Data after feature selection and imputation\n",
        "model = LinearSVC()    # Here Model is Defined and initialized as the LinearSVC() \n",
        "y1 = Data['Genotype']   # One predicted variable is Extracted from the Data\n",
        "\n",
        "X_train, X_test, Y_train, Y_test = train_test_split(X, y1, test_size=0.4)  # We spitting the Data matrix into the training and Testing Data\n",
        "model.fit(X_train, Y_train)  #Using Training Data we are training the model\n",
        "\n",
        "Y_pred = model.predict(X_test)  # Here using test data precticting the model output \n",
        "\n",
        "accurcy = accuracy_score(Y_test, Y_pred)    # Calculating Model's Accuracy score Using In built Library of the model on test data\n",
        "\n",
        "# Printing the accuracy score\n",
        "# print(\"Accuracy:\", accurcy)\n",
        "\n",
        "# Here In the below four line defining hyperparameter grids for all four modes respectively\n",
        "param_grid_linear_svm = {'C': [0.01, 0.1, 1, 10]}    # Hyperparameter grids for Linear SVM\n",
        "param_grid_rbf_svm = {'C': [0.01, 0.1, 1, 10], 'gamma': [0.01, 0.1, 1, 10]}     # Hyperparameter grids for RBF Kernel SVM\n",
        "param_grid_neural_network = {'hidden_layer_sizes': [(10,), (20,), (30,)], 'alpha': [0.0001, 0.001, 0.01]}       # Hyperparameter grids for Neural Network\n",
        "param_grid_random_forest = {'max_depth': [5, 10, 15], 'max_features': ['sqrt', 'log2', None]}      # Hyperparameter grids for Random Forest\n",
        "\n",
        "# Here In below Four lines the four models are defiened\n",
        "linear_svm = LinearSVC(max_iter=1000)       \n",
        "rbf_svm = SVC(kernel='rbf')\n",
        "neural_network = MLPClassifier(activation='relu', solver='adam', random_state=10,max_iter=100)\n",
        "random_forest = RandomForestClassifier(random_state=10)\n",
        "\n",
        "# Here Performing the Cross-Validation with grid search\n",
        "grid_search_linear_svm = GridSearchCV(linear_svm, param_grid_linear_svm, cv=5, scoring='accuracy')\n",
        "grid_search_rbf_svm = GridSearchCV(rbf_svm, param_grid_rbf_svm, cv=5, scoring='accuracy')\n",
        "grid_search_neural_network = GridSearchCV(neural_network, param_grid_neural_network, cv=5, scoring='accuracy')\n",
        "grid_search_random_forest = GridSearchCV(random_forest, param_grid_random_forest, cv=5, scoring='accuracy')\n",
        "\n",
        "# Here Fitting models and printing best hyperparameters\n",
        "grid_search_linear_svm.fit(X_train, Y_train)\n",
        "print(\"Linear SVM: Best hyperparameters:\", grid_search_linear_svm.best_params_)\n",
        "grid_search_rbf_svm.fit(X_train, Y_train)\n",
        "print(\"RBF SVM: Best hyperparameters:\", grid_search_rbf_svm.best_params_)\n",
        "grid_search_neural_network.fit(X_train, Y_train)\n",
        "print(\"Neural Network: Best hyperparameters:\", grid_search_neural_network.best_params_)\n",
        "grid_search_random_forest.fit(X_train, Y_train)\n",
        "print(\"Random Forest: Best hyperparameters:\", grid_search_random_forest.best_params_)"
      ]
    },
    {
      "cell_type": "markdown",
      "source": [
        "References:- https://www.youtube.com/watch?v=HdlDYng8g9s&ab_channel=codebasics\n",
        "\n",
        "Also took help from my friend Pavan roll no. :-22M1082"
      ],
      "metadata": {
        "id": "5skqugRvSC_c"
      }
    },
    {
      "cell_type": "markdown",
      "metadata": {
        "id": "JhG30zGL57vb"
      },
      "source": [
        "**Multiclass Classification** for Treatment_Behavior,\n",
        " **F1 score** is metric here\n",
        "\n"
      ]
    },
    {
      "cell_type": "code",
      "execution_count": 37,
      "metadata": {
        "colab": {
          "base_uri": "https://localhost:8080/"
        },
        "id": "0zl5iS2Q6vcj",
        "outputId": "dc9231ed-2e8c-4823-e229-72b5ff86a230"
      },
      "outputs": [
        {
          "output_type": "stream",
          "name": "stdout",
          "text": [
            "Linear SVM: Best hyperparameters: {'C': 10}\n",
            "RBF SVM: Best hyperparameters: {'C': 10, 'gamma': 0.1}\n",
            "Neural Network: Best hyperparameters: {'alpha': 0.001, 'hidden_layer_sizes': (30,)}\n",
            "Random Forest: Best hyperparameters: {'max_depth': 10, 'max_features': 'sqrt'}\n"
          ]
        }
      ],
      "source": [
        "from sklearn.model_selection import GridSearchCV\n",
        "from sklearn.svm import LinearSVC, SVC\n",
        "from sklearn.neural_network import MLPClassifier\n",
        "from sklearn.ensemble import RandomForestClassifier\n",
        "from sklearn.linear_model import LogisticRegression\n",
        "from sklearn.model_selection import train_test_split\n",
        "from sklearn.metrics import accuracy_score\n",
        "from sklearn.exceptions import ConvergenceWarning\n",
        "import warnings\n",
        "\n",
        "warnings.filterwarnings(\"ignore\", category=ConvergenceWarning)\n",
        "\n",
        "X= Data_read  #Data_read is the Data after feature selection and imputation\n",
        "model = LinearSVC()    # Here Model is Defined and initialized as the LinearSVC() \n",
        "y2 = Data['Treatment_Behavior']   # One predicted variable is Extracted from the Data\n",
        "\n",
        "X_train, X_test, Y_train, Y_test = train_test_split(X, y2, test_size=0.2)  # We spitting the Data matrix into the training and Testing Data\n",
        "model.fit(X_train, Y_train)  #Using Training Data we are training the model\n",
        "\n",
        "Y_pred = model.predict(X_test)  # Here using test data precticting the model output \n",
        "\n",
        "# accurcy = accuracy_score(Y_test, Y_pred)    # Calculating Model's Accuracy score Using In built Library of the model on test data\n",
        "\n",
        "# Printing the accuracy score\n",
        "# print(\"Accuracy:\", accurcy)\n",
        "\n",
        "# Here In the below four line defining hyperparameter grids for all four modes respectively\n",
        "param_grid_linear_svm = {'C': [0.01, 0.1, 1, 10]}    # Hyperparameter grids for Linear SVM\n",
        "param_grid_rbf_svm = {'C': [0.01, 0.1, 1, 10], 'gamma': [0.01, 0.1, 1, 10]}     # Hyperparameter grids for RBF Kernel SVM\n",
        "param_grid_neural_network = {'hidden_layer_sizes': [(10,), (20,), (30,)], 'alpha': [0.0001, 0.001, 0.01]}       # Hyperparameter grids for Neural Network\n",
        "param_grid_random_forest = {'max_depth': [5, 10, 15], 'max_features': ['sqrt', 'log2', None]}      # Hyperparameter grids for Random Forest\n",
        "\n",
        "# Here In below Four lines the four models are defiened\n",
        "linear_svm = LinearSVC(max_iter=1000)       \n",
        "rbf_svm = SVC(kernel='rbf')\n",
        "neural_network = MLPClassifier(activation='relu', solver='adam', random_state=10,max_iter=100)\n",
        "random_forest = RandomForestClassifier(random_state=10)\n",
        "\n",
        "# Here Performing the Cross-Validation with grid search\n",
        "grid_search_linear_svm = GridSearchCV(linear_svm, param_grid_linear_svm, cv=5, scoring='f1_weighted')\n",
        "grid_search_rbf_svm = GridSearchCV(rbf_svm, param_grid_rbf_svm, cv=5, scoring='f1_weighted')\n",
        "grid_search_neural_network = GridSearchCV(neural_network, param_grid_neural_network, cv=5, scoring='f1_weighted')\n",
        "grid_search_random_forest = GridSearchCV(random_forest, param_grid_random_forest, cv=5, scoring='f1_weighted')\n",
        "\n",
        "# Here Fitting models and printing best hyperparameters\n",
        "grid_search_linear_svm.fit(X_train, Y_train)\n",
        "print(\"Linear SVM: Best hyperparameters:\", grid_search_linear_svm.best_params_)\n",
        "grid_search_rbf_svm.fit(X_train, Y_train)\n",
        "print(\"RBF SVM: Best hyperparameters:\", grid_search_rbf_svm.best_params_)\n",
        "grid_search_neural_network.fit(X_train, Y_train)\n",
        "print(\"Neural Network: Best hyperparameters:\", grid_search_neural_network.best_params_)\n",
        "grid_search_random_forest.fit(X_train, Y_train)\n",
        "print(\"Random Forest: Best hyperparameters:\", grid_search_random_forest.best_params_)"
      ]
    },
    {
      "cell_type": "markdown",
      "metadata": {
        "id": "Vu-kZM39-NAr"
      },
      "source": [
        "**6. Check feature importance for each model to see if the same proteins are important for each model. Read upon how to find feature importance**"
      ]
    },
    {
      "cell_type": "markdown",
      "metadata": {
        "id": "EBeg5KhpLdPX"
      },
      "source": [
        "**Linear SVM**"
      ]
    },
    {
      "cell_type": "markdown",
      "metadata": {
        "id": "NSdfsN4ONOG4"
      },
      "source": [
        "\n",
        "\n",
        "> Binary Classification\n",
        "\n"
      ]
    },
    {
      "cell_type": "code",
      "execution_count": 39,
      "metadata": {
        "colab": {
          "base_uri": "https://localhost:8080/",
          "height": 1000
        },
        "id": "QjxsJsT1UHaK",
        "outputId": "62d04e90-4c71-4751-8fec-8bee75af97e5"
      },
      "outputs": [
        {
          "output_type": "stream",
          "name": "stdout",
          "text": [
            "Feature: 0, Score: 0.05328\n",
            "Feature: 1, Score: 0.00079\n",
            "Feature: 2, Score: 0.04331\n",
            "Feature: 3, Score: 0.00105\n",
            "Feature: 4, Score: -0.00131\n",
            "Feature: 5, Score: 0.00000\n",
            "Feature: 6, Score: 0.02546\n",
            "Feature: 7, Score: -0.00052\n",
            "Feature: 8, Score: 0.01759\n",
            "Feature: 9, Score: 0.03937\n",
            "Feature: 10, Score: -0.00105\n",
            "Feature: 11, Score: -0.00079\n",
            "Feature: 12, Score: -0.00131\n",
            "Feature: 13, Score: -0.00000\n",
            "Feature: 14, Score: 0.01024\n",
            "Feature: 15, Score: 0.00892\n",
            "Feature: 16, Score: 0.00289\n",
            "Feature: 17, Score: 0.00026\n",
            "Feature: 18, Score: -0.00105\n",
            "Feature: 19, Score: 0.01234\n",
            "Feature: 20, Score: 0.16640\n",
            "Feature: 21, Score: 0.00971\n",
            "Feature: 22, Score: -0.00052\n",
            "Feature: 23, Score: -0.00105\n",
            "Feature: 24, Score: 0.16273\n",
            "Feature: 25, Score: -0.00131\n",
            "Feature: 26, Score: 0.15643\n",
            "Feature: 27, Score: -0.00079\n",
            "Feature: 28, Score: 0.01312\n",
            "Feature: 29, Score: 0.00131\n",
            "Feature: 30, Score: 0.00157\n",
            "Feature: 31, Score: 0.04646\n",
            "Feature: 32, Score: 0.00577\n",
            "Feature: 33, Score: 0.01076\n",
            "Feature: 34, Score: 0.00761\n",
            "Feature: 35, Score: -0.00052\n",
            "Feature: 36, Score: 0.03570\n",
            "Feature: 37, Score: 0.00157\n",
            "Feature: 38, Score: -0.00052\n",
            "Feature: 39, Score: 0.01995\n",
            "Feature: 40, Score: -0.00079\n",
            "Feature: 41, Score: 0.01339\n",
            "Feature: 42, Score: -0.00052\n",
            "Feature: 43, Score: 0.00814\n",
            "Feature: 44, Score: -0.00394\n",
            "Feature: 45, Score: 0.01076\n",
            "Feature: 46, Score: -0.00131\n",
            "Feature: 47, Score: -0.00026\n",
            "Feature: 48, Score: -0.00026\n",
            "Feature: 49, Score: -0.00105\n",
            "Feature: 50, Score: -0.00105\n",
            "Feature: 51, Score: -0.00052\n",
            "Feature: 52, Score: -0.00105\n",
            "Feature: 53, Score: 0.00735\n",
            "Feature: 54, Score: -0.00262\n",
            "Feature: 55, Score: 0.00709\n",
            "Feature: 56, Score: -0.00079\n",
            "Feature: 57, Score: 0.03386\n",
            "Feature: 58, Score: -0.00157\n",
            "Feature: 59, Score: -0.00105\n",
            "Feature: 60, Score: 0.03622\n",
            "Feature: 61, Score: 0.01601\n",
            "Feature: 62, Score: -0.00079\n",
            "Feature: 63, Score: -0.00105\n",
            "Feature: 64, Score: -0.00157\n",
            "Feature: 65, Score: -0.00105\n",
            "Feature: 66, Score: 0.01732\n",
            "Feature: 67, Score: -0.00131\n",
            "Feature: 68, Score: -0.00079\n",
            "Feature: 69, Score: -0.00052\n",
            "Feature: 70, Score: -0.00210\n"
          ]
        },
        {
          "output_type": "display_data",
          "data": {
            "text/plain": [
              "<Figure size 432x288 with 1 Axes>"
            ],
            "image/png": "[encoded data removed]"
          },
          "metadata": {
            "needs_background": "light"
          }
        }
      ],
      "source": [
        "# permutation feature importance with Linear SVM for Binary classification\n",
        "from sklearn.datasets import make_classification\n",
        "from sklearn.neighbors import KNeighborsClassifier\n",
        "from sklearn.inspection import permutation_importance\n",
        "from matplotlib import pyplot\n",
        "\n",
        "# define the model\n",
        "model = LinearSVC()\n",
        "# fit the model\n",
        "model.fit(X, y1)\n",
        "# perform permutation importance\n",
        "results = permutation_importance(model, X, y1, scoring='accuracy')\n",
        "# get importance\n",
        "importance = results.importances_mean\n",
        "# summarize feature importance\n",
        "for i,v in enumerate(importance):\n",
        "\tprint('Feature: %0d, Score: %.5f' % (i,v))\n",
        "# plot feature importance\n",
        "pyplot.bar([x for x in range(len(importance))], importance)\n",
        "pyplot.show()"
      ]
    },
    {
      "cell_type": "markdown",
      "metadata": {
        "id": "zuMmPwWBNWF5"
      },
      "source": [
        "\n",
        "\n",
        "> Multi Classification\n",
        "\n"
      ]
    },
    {
      "cell_type": "code",
      "execution_count": 40,
      "metadata": {
        "colab": {
          "base_uri": "https://localhost:8080/",
          "height": 1000
        },
        "id": "xkRPBGQqNcVi",
        "outputId": "572c615b-ce8e-4980-d7b0-3657a53af733"
      },
      "outputs": [
        {
          "output_type": "stream",
          "name": "stdout",
          "text": [
            "Feature: 0, Score: 0.00445\n",
            "Feature: 1, Score: 0.00522\n",
            "Feature: 2, Score: 0.00861\n",
            "Feature: 3, Score: 0.11744\n",
            "Feature: 4, Score: 0.00052\n",
            "Feature: 5, Score: -0.00000\n",
            "Feature: 6, Score: 0.11390\n",
            "Feature: 7, Score: 0.00078\n",
            "Feature: 8, Score: 0.04766\n",
            "Feature: 9, Score: 0.04361\n",
            "Feature: 10, Score: 0.00444\n",
            "Feature: 11, Score: 0.00235\n",
            "Feature: 12, Score: 0.00026\n",
            "Feature: 13, Score: 0.01097\n",
            "Feature: 14, Score: 0.12919\n",
            "Feature: 15, Score: -0.00104\n",
            "Feature: 16, Score: 0.01638\n",
            "Feature: 17, Score: 0.02350\n",
            "Feature: 18, Score: 0.00000\n",
            "Feature: 19, Score: 0.02770\n",
            "Feature: 20, Score: 0.12844\n",
            "Feature: 21, Score: 0.04850\n",
            "Feature: 22, Score: 0.00026\n",
            "Feature: 23, Score: 0.00391\n",
            "Feature: 24, Score: 0.04099\n",
            "Feature: 25, Score: 0.00104\n",
            "Feature: 26, Score: 0.02898\n",
            "Feature: 27, Score: 0.16912\n",
            "Feature: 28, Score: 0.00757\n",
            "Feature: 29, Score: 0.00235\n",
            "Feature: 30, Score: 0.00235\n",
            "Feature: 31, Score: 0.01019\n",
            "Feature: 32, Score: -0.00079\n",
            "Feature: 33, Score: 0.00183\n",
            "Feature: 34, Score: 0.00424\n",
            "Feature: 35, Score: 0.00156\n",
            "Feature: 36, Score: -0.00183\n",
            "Feature: 37, Score: -0.00026\n",
            "Feature: 38, Score: -0.00261\n",
            "Feature: 39, Score: 0.01132\n",
            "Feature: 40, Score: 0.00000\n",
            "Feature: 41, Score: 0.04140\n",
            "Feature: 42, Score: -0.00026\n",
            "Feature: 43, Score: 0.03544\n",
            "Feature: 44, Score: 0.00759\n",
            "Feature: 45, Score: 0.01288\n",
            "Feature: 46, Score: 0.00000\n",
            "Feature: 47, Score: 0.00209\n",
            "Feature: 48, Score: 0.00000\n",
            "Feature: 49, Score: 0.00000\n",
            "Feature: 50, Score: 0.00130\n",
            "Feature: 51, Score: 0.00684\n",
            "Feature: 52, Score: -0.00026\n",
            "Feature: 53, Score: 0.00104\n",
            "Feature: 54, Score: 0.00026\n",
            "Feature: 55, Score: 0.02531\n",
            "Feature: 56, Score: 0.00000\n",
            "Feature: 57, Score: 0.00736\n",
            "Feature: 58, Score: 0.00130\n",
            "Feature: 59, Score: 0.00052\n",
            "Feature: 60, Score: 0.02693\n",
            "Feature: 61, Score: 0.02821\n",
            "Feature: 62, Score: 0.00052\n",
            "Feature: 63, Score: -0.00052\n",
            "Feature: 64, Score: -0.00026\n",
            "Feature: 65, Score: -0.00000\n",
            "Feature: 66, Score: 0.00000\n",
            "Feature: 67, Score: -0.00105\n",
            "Feature: 68, Score: 0.00026\n",
            "Feature: 69, Score: 0.00366\n",
            "Feature: 70, Score: 0.07151\n"
          ]
        },
        {
          "output_type": "display_data",
          "data": {
            "text/plain": [
              "<Figure size 432x288 with 1 Axes>"
            ],
            "image/png": "[encoded data removed]"
          },
          "metadata": {
            "needs_background": "light"
          }
        }
      ],
      "source": [
        "# permutation feature importance with Linear SVM for Multi classification\n",
        "from sklearn.datasets import make_classification\n",
        "from sklearn.neighbors import KNeighborsClassifier\n",
        "from sklearn.inspection import permutation_importance\n",
        "from matplotlib import pyplot\n",
        "\n",
        "# define the model\n",
        "model = LinearSVC()\n",
        "# fit the model\n",
        "model.fit(X, y2)\n",
        "# perform permutation importance\n",
        "results = permutation_importance(model, X, y2, scoring='f1_weighted')\n",
        "# get importance\n",
        "importance = results.importances_mean\n",
        "# summarize feature importance\n",
        "for i,v in enumerate(importance):\n",
        "\tprint('Feature: %0d, Score: %.5f' % (i,v))\n",
        "# plot feature importance\n",
        "pyplot.bar([x for x in range(len(importance))], importance)\n",
        "pyplot.show()"
      ]
    },
    {
      "cell_type": "markdown",
      "metadata": {
        "id": "CZAz62NwMAHz"
      },
      "source": [
        "**RBF kernel SVM**"
      ]
    },
    {
      "cell_type": "markdown",
      "metadata": {
        "id": "lMJTvlMBOCtI"
      },
      "source": [
        "Binary Classification"
      ]
    },
    {
      "cell_type": "code",
      "execution_count": 43,
      "metadata": {
        "colab": {
          "base_uri": "https://localhost:8080/",
          "height": 1000
        },
        "id": "FnUpK7pgSAxD",
        "outputId": "607178a0-e4f3-4a0c-dba1-c805753ddb74"
      },
      "outputs": [
        {
          "output_type": "stream",
          "name": "stdout",
          "text": [
            "Feature: 0, Score: 0.00630\n",
            "Feature: 1, Score: 0.00000\n",
            "Feature: 2, Score: 0.00289\n",
            "Feature: 3, Score: 0.06273\n",
            "Feature: 4, Score: -0.00052\n",
            "Feature: 5, Score: 0.00000\n",
            "Feature: 6, Score: 0.04672\n",
            "Feature: 7, Score: 0.00000\n",
            "Feature: 8, Score: 0.03333\n",
            "Feature: 9, Score: -0.00210\n",
            "Feature: 10, Score: -0.00131\n",
            "Feature: 11, Score: 0.00000\n",
            "Feature: 12, Score: -0.00052\n",
            "Feature: 13, Score: -0.00866\n",
            "Feature: 14, Score: 0.03596\n",
            "Feature: 15, Score: -0.00105\n",
            "Feature: 16, Score: -0.00157\n",
            "Feature: 17, Score: -0.00052\n",
            "Feature: 18, Score: -0.00026\n",
            "Feature: 19, Score: -0.00341\n",
            "Feature: 20, Score: -0.00604\n",
            "Feature: 21, Score: -0.00709\n",
            "Feature: 22, Score: -0.00026\n",
            "Feature: 23, Score: 0.00000\n",
            "Feature: 24, Score: 0.00367\n",
            "Feature: 25, Score: 0.00000\n",
            "Feature: 26, Score: 0.00682\n",
            "Feature: 27, Score: 0.00840\n",
            "Feature: 28, Score: -0.00131\n",
            "Feature: 29, Score: -0.00052\n",
            "Feature: 30, Score: -0.00315\n",
            "Feature: 31, Score: 0.00604\n",
            "Feature: 32, Score: -0.00236\n",
            "Feature: 33, Score: -0.00315\n",
            "Feature: 34, Score: -0.00052\n",
            "Feature: 35, Score: 0.00000\n",
            "Feature: 36, Score: 0.00079\n",
            "Feature: 37, Score: -0.00105\n",
            "Feature: 38, Score: -0.00079\n",
            "Feature: 39, Score: 0.00499\n",
            "Feature: 40, Score: 0.00000\n",
            "Feature: 41, Score: 0.05984\n",
            "Feature: 42, Score: 0.00000\n",
            "Feature: 43, Score: 0.00184\n",
            "Feature: 44, Score: -0.00420\n",
            "Feature: 45, Score: 0.01207\n",
            "Feature: 46, Score: 0.00000\n",
            "Feature: 47, Score: 0.00000\n",
            "Feature: 48, Score: 0.00000\n",
            "Feature: 49, Score: 0.00000\n",
            "Feature: 50, Score: -0.00131\n",
            "Feature: 51, Score: 0.00079\n",
            "Feature: 52, Score: 0.00000\n",
            "Feature: 53, Score: 0.00026\n",
            "Feature: 54, Score: -0.00026\n",
            "Feature: 55, Score: -0.00420\n",
            "Feature: 56, Score: 0.00000\n",
            "Feature: 57, Score: -0.00341\n",
            "Feature: 58, Score: 0.00551\n",
            "Feature: 59, Score: -0.00052\n",
            "Feature: 60, Score: 0.01312\n",
            "Feature: 61, Score: -0.00157\n",
            "Feature: 62, Score: -0.00131\n",
            "Feature: 63, Score: -0.00131\n",
            "Feature: 64, Score: -0.00210\n",
            "Feature: 65, Score: -0.00079\n",
            "Feature: 66, Score: -0.00551\n",
            "Feature: 67, Score: 0.00236\n",
            "Feature: 68, Score: -0.00236\n",
            "Feature: 69, Score: -0.00157\n",
            "Feature: 70, Score: -0.01234\n"
          ]
        },
        {
          "output_type": "display_data",
          "data": {
            "text/plain": [
              "<Figure size 432x288 with 1 Axes>"
            ],
            "image/png": "[encoded data removed]"
          },
          "metadata": {
            "needs_background": "light"
          }
        }
      ],
      "source": [
        "# permutation feature importance with RBF kernel SVM for Binary classification\n",
        "from sklearn.datasets import make_classification\n",
        "from sklearn.neighbors import KNeighborsClassifier\n",
        "from sklearn.inspection import permutation_importance\n",
        "from matplotlib import pyplot\n",
        "\n",
        "# Here in below two line fitting RBF_SVM model on data\n",
        "rbf_SVM = SVC(kernel='rbf')\n",
        "rbf_SVM.fit(X,y1) # using SVM model on data matrix X and the for binary classification\n",
        "\n",
        "\n",
        "# Here in below two lines also performing the permutation importance\n",
        "results = permutation_importance(rbf_SVM, X, y1)    \n",
        "importance = results.importances_mean\n",
        "# summarize feature importance\n",
        "for i,v in enumerate(importance):\n",
        "\tprint('Feature: %0d, Score: %.5f' % (i,v))\n",
        "# plotting the feature importance\n",
        "pyplot.bar([x for x in range(len(importance))], importance)\n",
        "pyplot.show()"
      ]
    },
    {
      "cell_type": "markdown",
      "metadata": {
        "id": "XpB6QYBUOGcn"
      },
      "source": [
        "Multi Classification"
      ]
    },
    {
      "cell_type": "code",
      "execution_count": 44,
      "metadata": {
        "colab": {
          "base_uri": "https://localhost:8080/",
          "height": 1000
        },
        "id": "NEsP2QC5OJmE",
        "outputId": "314b7191-1ba5-41cf-8039-ee312b48b289"
      },
      "outputs": [
        {
          "output_type": "stream",
          "name": "stdout",
          "text": [
            "Feature: 0, Score: 0.00131\n",
            "Feature: 1, Score: -0.00079\n",
            "Feature: 2, Score: 0.00866\n",
            "Feature: 3, Score: 0.08714\n",
            "Feature: 4, Score: 0.00052\n",
            "Feature: 5, Score: 0.00079\n",
            "Feature: 6, Score: 0.26325\n",
            "Feature: 7, Score: -0.00052\n",
            "Feature: 8, Score: 0.03045\n",
            "Feature: 9, Score: 0.01444\n",
            "Feature: 10, Score: 0.00184\n",
            "Feature: 11, Score: 0.00000\n",
            "Feature: 12, Score: 0.00052\n",
            "Feature: 13, Score: -0.00840\n",
            "Feature: 14, Score: 0.09790\n",
            "Feature: 15, Score: -0.00052\n",
            "Feature: 16, Score: -0.00210\n",
            "Feature: 17, Score: -0.00026\n",
            "Feature: 18, Score: 0.00000\n",
            "Feature: 19, Score: 0.00262\n",
            "Feature: 20, Score: 0.07612\n",
            "Feature: 21, Score: 0.00184\n",
            "Feature: 22, Score: -0.00026\n",
            "Feature: 23, Score: -0.00052\n",
            "Feature: 24, Score: 0.00184\n",
            "Feature: 25, Score: 0.00000\n",
            "Feature: 26, Score: 0.00131\n",
            "Feature: 27, Score: 0.02730\n",
            "Feature: 28, Score: 0.00367\n",
            "Feature: 29, Score: 0.00630\n",
            "Feature: 30, Score: 0.01076\n",
            "Feature: 31, Score: 0.00787\n",
            "Feature: 32, Score: 0.00184\n",
            "Feature: 33, Score: 0.00787\n",
            "Feature: 34, Score: 0.00236\n",
            "Feature: 35, Score: 0.00157\n",
            "Feature: 36, Score: 0.00157\n",
            "Feature: 37, Score: 0.00157\n",
            "Feature: 38, Score: 0.00052\n",
            "Feature: 39, Score: -0.00026\n",
            "Feature: 40, Score: -0.00079\n",
            "Feature: 41, Score: 0.05039\n",
            "Feature: 42, Score: -0.00052\n",
            "Feature: 43, Score: 0.01444\n",
            "Feature: 44, Score: -0.00052\n",
            "Feature: 45, Score: 0.00919\n",
            "Feature: 46, Score: -0.00131\n",
            "Feature: 47, Score: -0.00079\n",
            "Feature: 48, Score: 0.00000\n",
            "Feature: 49, Score: 0.00000\n",
            "Feature: 50, Score: 0.00000\n",
            "Feature: 51, Score: 0.00000\n",
            "Feature: 52, Score: -0.00026\n",
            "Feature: 53, Score: 0.00000\n",
            "Feature: 54, Score: -0.00052\n",
            "Feature: 55, Score: 0.00079\n",
            "Feature: 56, Score: -0.00052\n",
            "Feature: 57, Score: -0.00184\n",
            "Feature: 58, Score: 0.00997\n",
            "Feature: 59, Score: -0.00157\n",
            "Feature: 60, Score: -0.00105\n",
            "Feature: 61, Score: 0.00079\n",
            "Feature: 62, Score: -0.00026\n",
            "Feature: 63, Score: -0.00026\n",
            "Feature: 64, Score: -0.00131\n",
            "Feature: 65, Score: -0.00131\n",
            "Feature: 66, Score: -0.00079\n",
            "Feature: 67, Score: -0.00236\n",
            "Feature: 68, Score: -0.00079\n",
            "Feature: 69, Score: -0.00236\n",
            "Feature: 70, Score: 0.02940\n"
          ]
        },
        {
          "output_type": "display_data",
          "data": {
            "text/plain": [
              "<Figure size 432x288 with 1 Axes>"
            ],
            "image/png": "[encoded data removed]"
          },
          "metadata": {
            "needs_background": "light"
          }
        }
      ],
      "source": [
        "# permutation feature importance with RBF kernel SVM for Multi classification\n",
        "from sklearn.datasets import make_classification\n",
        "from sklearn.neighbors import KNeighborsClassifier\n",
        "from sklearn.inspection import permutation_importance\n",
        "from matplotlib import pyplot\n",
        "\n",
        "\n",
        "# Here in below two line fitting RBF_SVM model on data\n",
        "rbf_SVM = SVC(kernel='rbf')\n",
        "rbf_SVM.fit(X,y2) # using SVM model on data matrix X and the for binary classificatio\n",
        "\n",
        "\n",
        "# Here in below two lines also performing the permutation importance\n",
        "results = permutation_importance(rbf_SVM, X, y2)\n",
        "importance = results.importances_mean\n",
        "# summarize feature importance\n",
        "for i,v in enumerate(importance):\n",
        "\tprint('Feature: %0d, Score: %.5f' % (i,v))\n",
        "# ploting feature importance\n",
        "pyplot.bar([x for x in range(len(importance))], importance)\n",
        "pyplot.show()"
      ]
    },
    {
      "cell_type": "markdown",
      "metadata": {
        "id": "-DB1Z1tTMMmJ"
      },
      "source": [
        "**Neural Network**"
      ]
    },
    {
      "cell_type": "markdown",
      "metadata": {
        "id": "6FYAv6zrOLz2"
      },
      "source": [
        "\n",
        "\n",
        "> Binary Classification\n",
        "\n"
      ]
    },
    {
      "cell_type": "code",
      "execution_count": 45,
      "metadata": {
        "colab": {
          "base_uri": "https://localhost:8080/",
          "height": 1000
        },
        "id": "POaK1lBMM9Tn",
        "outputId": "8875f681-7380-4f1c-8604-6cd77eec3407"
      },
      "outputs": [
        {
          "output_type": "stream",
          "name": "stdout",
          "text": [
            "Feature: 0, Score: 0.02572\n",
            "Feature: 1, Score: 0.00026\n",
            "Feature: 2, Score: 0.00210\n",
            "Feature: 3, Score: 0.04409\n",
            "Feature: 4, Score: 0.00105\n",
            "Feature: 5, Score: 0.00184\n",
            "Feature: 6, Score: 0.04934\n",
            "Feature: 7, Score: -0.00131\n",
            "Feature: 8, Score: 0.00761\n",
            "Feature: 9, Score: 0.00682\n",
            "Feature: 10, Score: 0.00236\n",
            "Feature: 11, Score: 0.00079\n",
            "Feature: 12, Score: 0.00079\n",
            "Feature: 13, Score: 0.00157\n",
            "Feature: 14, Score: 0.01365\n",
            "Feature: 15, Score: -0.00210\n",
            "Feature: 16, Score: 0.00000\n",
            "Feature: 17, Score: 0.00000\n",
            "Feature: 18, Score: -0.00026\n",
            "Feature: 19, Score: 0.00367\n",
            "Feature: 20, Score: 0.00472\n",
            "Feature: 21, Score: -0.00157\n",
            "Feature: 22, Score: 0.00026\n",
            "Feature: 23, Score: 0.00000\n",
            "Feature: 24, Score: 0.01286\n",
            "Feature: 25, Score: 0.00026\n",
            "Feature: 26, Score: 0.02835\n",
            "Feature: 27, Score: 0.01050\n",
            "Feature: 28, Score: -0.00840\n",
            "Feature: 29, Score: -0.01417\n",
            "Feature: 30, Score: -0.00446\n",
            "Feature: 31, Score: 0.01260\n",
            "Feature: 32, Score: -0.00525\n",
            "Feature: 33, Score: -0.00787\n",
            "Feature: 34, Score: -0.00052\n",
            "Feature: 35, Score: -0.00157\n",
            "Feature: 36, Score: 0.00656\n",
            "Feature: 37, Score: -0.00525\n",
            "Feature: 38, Score: 0.00079\n",
            "Feature: 39, Score: 0.00945\n",
            "Feature: 40, Score: 0.00000\n",
            "Feature: 41, Score: 0.02047\n",
            "Feature: 42, Score: -0.00052\n",
            "Feature: 43, Score: -0.00472\n",
            "Feature: 44, Score: 0.00682\n",
            "Feature: 45, Score: 0.02415\n",
            "Feature: 46, Score: -0.00052\n",
            "Feature: 47, Score: 0.00105\n",
            "Feature: 48, Score: -0.00079\n",
            "Feature: 49, Score: -0.00026\n",
            "Feature: 50, Score: -0.00079\n",
            "Feature: 51, Score: -0.00315\n",
            "Feature: 52, Score: -0.00131\n",
            "Feature: 53, Score: -0.00577\n",
            "Feature: 54, Score: -0.00420\n",
            "Feature: 55, Score: -0.00551\n",
            "Feature: 56, Score: 0.00157\n",
            "Feature: 57, Score: 0.00210\n",
            "Feature: 58, Score: 0.00026\n",
            "Feature: 59, Score: -0.00262\n",
            "Feature: 60, Score: 0.00420\n",
            "Feature: 61, Score: 0.00157\n",
            "Feature: 62, Score: -0.00131\n",
            "Feature: 63, Score: -0.00131\n",
            "Feature: 64, Score: -0.00315\n",
            "Feature: 65, Score: -0.00236\n",
            "Feature: 66, Score: -0.00184\n",
            "Feature: 67, Score: -0.00026\n",
            "Feature: 68, Score: -0.00945\n",
            "Feature: 69, Score: -0.00105\n",
            "Feature: 70, Score: 0.01496\n"
          ]
        },
        {
          "output_type": "display_data",
          "data": {
            "text/plain": [
              "<Figure size 432x288 with 1 Axes>"
            ],
            "image/png": "[encoded data removed]"
          },
          "metadata": {
            "needs_background": "light"
          }
        }
      ],
      "source": [
        "from sklearn.neural_network import MLPClassifier\n",
        "import numpy as np\n",
        "import matplotlib.pyplot as plt\n",
        "from sklearn.datasets import make_classification\n",
        "from sklearn.neighbors import KNeighborsClassifier\n",
        "from sklearn.inspection import permutation_importance\n",
        "from matplotlib import pyplot\n",
        "\n",
        "# Creating Neural network object\n",
        "neural_network = MLPClassifier(hidden_layer_sizes=(100,), activation='relu', solver='adam', random_state=10, max_iter=100)\n",
        "\n",
        "# Fitting The neural network on the data\n",
        "neural_network.fit(X,y1)\n",
        "#Performing the permutation importance on the data\n",
        "results = permutation_importance(neural_network, X, y1)\n",
        "importance = results.importances_mean\n",
        "# summarize feature importance\n",
        "for i,v in enumerate(importance):\n",
        "\tprint('Feature: %0d, Score: %.5f' % (i,v))\n",
        "# plot feature importance\n",
        "pyplot.bar([x for x in range(len(importance))], importance)\n",
        "pyplot.show()"
      ]
    },
    {
      "cell_type": "markdown",
      "metadata": {
        "id": "DlzfU1OgOTBl"
      },
      "source": [
        "\n",
        "\n",
        "> Multi Classification\n",
        "\n"
      ]
    },
    {
      "cell_type": "code",
      "execution_count": 46,
      "metadata": {
        "colab": {
          "base_uri": "https://localhost:8080/",
          "height": 1000
        },
        "id": "ybHV-ALZOYU_",
        "outputId": "220d4169-fb13-402e-b40f-afb9ca92723b"
      },
      "outputs": [
        {
          "output_type": "stream",
          "name": "stdout",
          "text": [
            "Feature: 0, Score: 0.01260\n",
            "Feature: 1, Score: 0.00446\n",
            "Feature: 2, Score: 0.01076\n",
            "Feature: 3, Score: 0.07717\n",
            "Feature: 4, Score: 0.00079\n",
            "Feature: 5, Score: -0.00026\n",
            "Feature: 6, Score: 0.26509\n",
            "Feature: 7, Score: -0.00131\n",
            "Feature: 8, Score: 0.03438\n",
            "Feature: 9, Score: 0.02415\n",
            "Feature: 10, Score: 0.00289\n",
            "Feature: 11, Score: 0.00367\n",
            "Feature: 12, Score: 0.00210\n",
            "Feature: 13, Score: 0.00656\n",
            "Feature: 14, Score: 0.09108\n",
            "Feature: 15, Score: -0.00079\n",
            "Feature: 16, Score: 0.00341\n",
            "Feature: 17, Score: -0.00026\n",
            "Feature: 18, Score: -0.00052\n",
            "Feature: 19, Score: 0.01864\n",
            "Feature: 20, Score: 0.05197\n",
            "Feature: 21, Score: 0.01312\n",
            "Feature: 22, Score: 0.00157\n",
            "Feature: 23, Score: -0.00184\n",
            "Feature: 24, Score: 0.01129\n",
            "Feature: 25, Score: 0.00052\n",
            "Feature: 26, Score: 0.00394\n",
            "Feature: 27, Score: 0.02992\n",
            "Feature: 28, Score: 0.00997\n",
            "Feature: 29, Score: 0.00551\n",
            "Feature: 30, Score: 0.00367\n",
            "Feature: 31, Score: 0.00262\n",
            "Feature: 32, Score: -0.00210\n",
            "Feature: 33, Score: 0.00551\n",
            "Feature: 34, Score: -0.00026\n",
            "Feature: 35, Score: 0.00289\n",
            "Feature: 36, Score: -0.00210\n",
            "Feature: 37, Score: 0.00945\n",
            "Feature: 38, Score: -0.00289\n",
            "Feature: 39, Score: 0.00577\n",
            "Feature: 40, Score: -0.00184\n",
            "Feature: 41, Score: 0.05879\n",
            "Feature: 42, Score: -0.00079\n",
            "Feature: 43, Score: 0.02336\n",
            "Feature: 44, Score: 0.00210\n",
            "Feature: 45, Score: 0.00997\n",
            "Feature: 46, Score: -0.00236\n",
            "Feature: 47, Score: -0.00262\n",
            "Feature: 48, Score: -0.00079\n",
            "Feature: 49, Score: -0.00105\n",
            "Feature: 50, Score: 0.00315\n",
            "Feature: 51, Score: -0.00000\n",
            "Feature: 52, Score: 0.00079\n",
            "Feature: 53, Score: 0.00367\n",
            "Feature: 54, Score: 0.00052\n",
            "Feature: 55, Score: 0.00236\n",
            "Feature: 56, Score: 0.00026\n",
            "Feature: 57, Score: 0.00131\n",
            "Feature: 58, Score: 0.00945\n",
            "Feature: 59, Score: -0.00079\n",
            "Feature: 60, Score: 0.00682\n",
            "Feature: 61, Score: 0.00289\n",
            "Feature: 62, Score: -0.00157\n",
            "Feature: 63, Score: -0.00052\n",
            "Feature: 64, Score: -0.00079\n",
            "Feature: 65, Score: 0.00105\n",
            "Feature: 66, Score: 0.00105\n",
            "Feature: 67, Score: 0.00499\n",
            "Feature: 68, Score: -0.00026\n",
            "Feature: 69, Score: 0.00184\n",
            "Feature: 70, Score: 0.03386\n"
          ]
        },
        {
          "output_type": "display_data",
          "data": {
            "text/plain": [
              "<Figure size 432x288 with 1 Axes>"
            ],
            "image/png": "[encoded data removed]"
          },
          "metadata": {
            "needs_background": "light"
          }
        }
      ],
      "source": [
        "from sklearn.neural_network import MLPClassifier\n",
        "import numpy as np\n",
        "import matplotlib.pyplot as plt\n",
        "from sklearn.datasets import make_classification\n",
        "from sklearn.neighbors import KNeighborsClassifier\n",
        "from sklearn.inspection import permutation_importance\n",
        "from matplotlib import pyplot\n",
        "\n",
        "# Creating Neural network object\n",
        "neural_network = MLPClassifier(hidden_layer_sizes=(100,), activation='relu', solver='adam', random_state=10, max_iter=100)\n",
        "\n",
        "# Fitting The neural network on the data\n",
        "neural_network.fit(X,y2)\n",
        "#Performing the permutation importance on the data\n",
        "results = permutation_importance(neural_network, X, y2)\n",
        "importance = results.importances_mean\n",
        "# summarize feature importance\n",
        "for i,v in enumerate(importance):\n",
        "\tprint('Feature: %0d, Score: %.5f' % (i,v))\n",
        "# plot feature importance\n",
        "pyplot.bar([x for x in range(len(importance))], importance)\n",
        "pyplot.show()"
      ]
    },
    {
      "cell_type": "markdown",
      "metadata": {
        "id": "uG4U13fcMSTp"
      },
      "source": [
        "**Random_Forest**"
      ]
    },
    {
      "cell_type": "markdown",
      "metadata": {
        "id": "DIStz9IjNgpl"
      },
      "source": [
        "Binary Classification"
      ]
    },
    {
      "cell_type": "code",
      "execution_count": 47,
      "metadata": {
        "colab": {
          "base_uri": "https://localhost:8080/",
          "height": 1000
        },
        "id": "sfP3njHBZDgu",
        "outputId": "5f6cab20-3794-40d1-8afe-08c5737dcee6"
      },
      "outputs": [
        {
          "output_type": "stream",
          "name": "stdout",
          "text": [
            "Feature: 0, Score: 0.02305\n",
            "Feature: 1, Score: 0.00883\n",
            "Feature: 2, Score: 0.01544\n",
            "Feature: 3, Score: 0.00779\n",
            "Feature: 4, Score: 0.00796\n",
            "Feature: 5, Score: 0.00457\n",
            "Feature: 6, Score: 0.01186\n",
            "Feature: 7, Score: 0.01548\n",
            "Feature: 8, Score: 0.00997\n",
            "Feature: 9, Score: 0.01110\n",
            "Feature: 10, Score: 0.00628\n",
            "Feature: 11, Score: 0.00852\n",
            "Feature: 12, Score: 0.00750\n",
            "Feature: 13, Score: 0.01103\n",
            "Feature: 14, Score: 0.01020\n",
            "Feature: 15, Score: 0.01168\n",
            "Feature: 16, Score: 0.00969\n",
            "Feature: 17, Score: 0.00804\n",
            "Feature: 18, Score: 0.00955\n",
            "Feature: 19, Score: 0.00672\n",
            "Feature: 20, Score: 0.00940\n",
            "Feature: 21, Score: 0.01009\n",
            "Feature: 22, Score: 0.00721\n",
            "Feature: 23, Score: 0.00461\n",
            "Feature: 24, Score: 0.01258\n",
            "Feature: 25, Score: 0.01001\n",
            "Feature: 26, Score: 0.11704\n",
            "Feature: 27, Score: 0.00873\n",
            "Feature: 28, Score: 0.01648\n",
            "Feature: 29, Score: 0.02660\n",
            "Feature: 30, Score: 0.02691\n",
            "Feature: 31, Score: 0.01590\n",
            "Feature: 32, Score: 0.02271\n",
            "Feature: 33, Score: 0.01965\n",
            "Feature: 34, Score: 0.01468\n",
            "Feature: 35, Score: 0.01499\n",
            "Feature: 36, Score: 0.01421\n",
            "Feature: 37, Score: 0.00851\n",
            "Feature: 38, Score: 0.00800\n",
            "Feature: 39, Score: 0.00801\n",
            "Feature: 40, Score: 0.01081\n",
            "Feature: 41, Score: 0.02545\n",
            "Feature: 42, Score: 0.00609\n",
            "Feature: 43, Score: 0.03360\n",
            "Feature: 44, Score: 0.01355\n",
            "Feature: 45, Score: 0.03593\n",
            "Feature: 46, Score: 0.00877\n",
            "Feature: 47, Score: 0.00708\n",
            "Feature: 48, Score: 0.01558\n",
            "Feature: 49, Score: 0.00733\n",
            "Feature: 50, Score: 0.00872\n",
            "Feature: 51, Score: 0.03439\n",
            "Feature: 52, Score: 0.00704\n",
            "Feature: 53, Score: 0.04236\n",
            "Feature: 54, Score: 0.01096\n",
            "Feature: 55, Score: 0.00741\n",
            "Feature: 56, Score: 0.00850\n",
            "Feature: 57, Score: 0.01335\n",
            "Feature: 58, Score: 0.01290\n",
            "Feature: 59, Score: 0.00743\n",
            "Feature: 60, Score: 0.01911\n",
            "Feature: 61, Score: 0.00900\n",
            "Feature: 62, Score: 0.00518\n",
            "Feature: 63, Score: 0.00587\n",
            "Feature: 64, Score: 0.00795\n",
            "Feature: 65, Score: 0.00710\n",
            "Feature: 66, Score: 0.01382\n",
            "Feature: 67, Score: 0.01051\n",
            "Feature: 68, Score: 0.00544\n",
            "Feature: 69, Score: 0.00626\n",
            "Feature: 70, Score: 0.01096\n"
          ]
        },
        {
          "output_type": "display_data",
          "data": {
            "text/plain": [
              "<Figure size 432x288 with 1 Axes>"
            ],
            "image/png": "[encoded data removed]"
          },
          "metadata": {
            "needs_background": "light"
          }
        }
      ],
      "source": [
        "# random forest for feature importance on a classification problem\n",
        "from sklearn.datasets import make_classification\n",
        "from sklearn.ensemble import RandomForestClassifier\n",
        "from matplotlib import pyplot\n",
        "\n",
        "# define the model\n",
        "model = RandomForestClassifier()\n",
        "# fit the model\n",
        "model.fit(X, y1)\n",
        "# get importance\n",
        "importance = model.feature_importances_\n",
        "# summarize feature importance\n",
        "for i,v in enumerate(importance):\n",
        "\tprint('Feature: %0d, Score: %.5f' % (i,v))\n",
        "# plot feature importance\n",
        "pyplot.bar([x for x in range(len(importance))], importance)\n",
        "pyplot.show()"
      ]
    },
    {
      "cell_type": "markdown",
      "metadata": {
        "id": "DP_G50jqNk7f"
      },
      "source": [
        "Multi Classification"
      ]
    },
    {
      "cell_type": "code",
      "execution_count": 48,
      "metadata": {
        "colab": {
          "base_uri": "https://localhost:8080/",
          "height": 1000
        },
        "id": "HitZqr2jaqPM",
        "outputId": "f96a7e8a-79b4-4643-fda2-3940ab73aeac"
      },
      "outputs": [
        {
          "output_type": "stream",
          "name": "stdout",
          "text": [
            "Feature: 0, Score: 0.03514\n",
            "Feature: 1, Score: 0.00639\n",
            "Feature: 2, Score: 0.00579\n",
            "Feature: 3, Score: 0.00377\n",
            "Feature: 4, Score: 0.01158\n",
            "Feature: 5, Score: 0.01215\n",
            "Feature: 6, Score: 0.03965\n",
            "Feature: 7, Score: 0.00535\n",
            "Feature: 8, Score: 0.01343\n",
            "Feature: 9, Score: 0.04713\n",
            "Feature: 10, Score: 0.01114\n",
            "Feature: 11, Score: 0.01002\n",
            "Feature: 12, Score: 0.00919\n",
            "Feature: 13, Score: 0.00761\n",
            "Feature: 14, Score: 0.03596\n",
            "Feature: 15, Score: 0.00570\n",
            "Feature: 16, Score: 0.00793\n",
            "Feature: 17, Score: 0.00546\n",
            "Feature: 18, Score: 0.00521\n",
            "Feature: 19, Score: 0.00699\n",
            "Feature: 20, Score: 0.00577\n",
            "Feature: 21, Score: 0.01067\n",
            "Feature: 22, Score: 0.00633\n",
            "Feature: 23, Score: 0.00605\n",
            "Feature: 24, Score: 0.00286\n",
            "Feature: 25, Score: 0.00498\n",
            "Feature: 26, Score: 0.00456\n",
            "Feature: 27, Score: 0.09882\n",
            "Feature: 28, Score: 0.00675\n",
            "Feature: 29, Score: 0.02312\n",
            "Feature: 30, Score: 0.02726\n",
            "Feature: 31, Score: 0.01236\n",
            "Feature: 32, Score: 0.00589\n",
            "Feature: 33, Score: 0.00667\n",
            "Feature: 34, Score: 0.02603\n",
            "Feature: 35, Score: 0.00685\n",
            "Feature: 36, Score: 0.01040\n",
            "Feature: 37, Score: 0.02373\n",
            "Feature: 38, Score: 0.01490\n",
            "Feature: 39, Score: 0.00971\n",
            "Feature: 40, Score: 0.01502\n",
            "Feature: 41, Score: 0.02960\n",
            "Feature: 42, Score: 0.01149\n",
            "Feature: 43, Score: 0.01561\n",
            "Feature: 44, Score: 0.00672\n",
            "Feature: 45, Score: 0.00721\n",
            "Feature: 46, Score: 0.01275\n",
            "Feature: 47, Score: 0.01553\n",
            "Feature: 48, Score: 0.01613\n",
            "Feature: 49, Score: 0.00548\n",
            "Feature: 50, Score: 0.01836\n",
            "Feature: 51, Score: 0.00991\n",
            "Feature: 52, Score: 0.01047\n",
            "Feature: 53, Score: 0.01180\n",
            "Feature: 54, Score: 0.00457\n",
            "Feature: 55, Score: 0.02090\n",
            "Feature: 56, Score: 0.00511\n",
            "Feature: 57, Score: 0.00853\n",
            "Feature: 58, Score: 0.01040\n",
            "Feature: 59, Score: 0.01831\n",
            "Feature: 60, Score: 0.03600\n",
            "Feature: 61, Score: 0.00797\n",
            "Feature: 62, Score: 0.00584\n",
            "Feature: 63, Score: 0.00330\n",
            "Feature: 64, Score: 0.00427\n",
            "Feature: 65, Score: 0.00369\n",
            "Feature: 66, Score: 0.00922\n",
            "Feature: 67, Score: 0.00717\n",
            "Feature: 68, Score: 0.00447\n",
            "Feature: 69, Score: 0.00372\n",
            "Feature: 70, Score: 0.06117\n"
          ]
        },
        {
          "output_type": "display_data",
          "data": {
            "text/plain": [
              "<Figure size 432x288 with 1 Axes>"
            ],
            "image/png": "[encoded data removed]"
          },
          "metadata": {
            "needs_background": "light"
          }
        }
      ],
      "source": [
        "# random forest for feature importance on a classification problem\n",
        "from sklearn.datasets import make_classification\n",
        "from sklearn.ensemble import RandomForestClassifier\n",
        "from matplotlib import pyplot\n",
        "# define the model\n",
        "model = RandomForestClassifier()\n",
        "# fit the model\n",
        "model.fit(X, y2)\n",
        "# get importance\n",
        "importance = model.feature_importances_\n",
        "# summarize feature importance\n",
        "for i,v in enumerate(importance):\n",
        "\tprint('Feature: %0d, Score: %.5f' % (i,v))\n",
        "# plot feature importance\n",
        "pyplot.bar([x for x in range(len(importance))], importance)\n",
        "pyplot.show()"
      ]
    },
    {
      "cell_type": "markdown",
      "source": [
        "References For Q:06:-\n",
        "\n",
        "> https://machinelearningmastery.com/calculate-feature-importance-with-python/\n",
        "\n",
        "> https://www.youtube.com/watch?v=R47JAob1xBY&ab_channel=CampusX\n",
        "\n",
        "\n",
        "\n",
        "\n"
      ],
      "metadata": {
        "id": "GiEydIkDZJ0L"
      }
    },
    {
      "cell_type": "markdown",
      "metadata": {
        "id": "XFlEsxmGasRR"
      },
      "source": [
        "**Q:07 See if removing some features systematically will improve your models (e.g. using recursive feature elimination https://scikit-learn.org/stable/modules/generated/sklearn.feature_selection.RFECV.html). [3]**\n",
        "\n"
      ]
    },
    {
      "cell_type": "markdown",
      "metadata": {
        "id": "842F-jIkR813"
      },
      "source": [
        "**Linear_SVM**"
      ]
    },
    {
      "cell_type": "markdown",
      "metadata": {
        "id": "Nv82P0YAULLl"
      },
      "source": [
        "For Binary Class"
      ]
    },
    {
      "cell_type": "code",
      "execution_count": 49,
      "metadata": {
        "colab": {
          "base_uri": "https://localhost:8080/"
        },
        "id": "eqTv-r65a85B",
        "outputId": "f6eb3201-cada-4805-b6af-7f34e462bb07"
      },
      "outputs": [
        {
          "output_type": "stream",
          "name": "stdout",
          "text": [
            "[10  1  1 36  1 12 28  2 16 11  1  1 17 27 18  1  4  1  1 23  1  3 24  1\n",
            "  1  1  1 29  1 19 34  1  1  1  1  1  1  5  1  1  6 22 32  7 31 20 13  1\n",
            "  8  1  1  1 30  1  1  1  1  1 37  1 15  1 21 25  1 33  1 35 26 14  9]\n",
            "[False  True  True False  True False False False False False  True  True\n",
            " False False False  True False  True  True False  True False False  True\n",
            "  True  True  True False  True False False  True  True  True  True  True\n",
            "  True False  True  True False False False False False False False  True\n",
            " False  True  True  True False  True  True  True  True  True False  True\n",
            " False  True False False  True False  True False False False False]\n",
            "Accuracy: 0.9869281045751634\n"
          ]
        }
      ],
      "source": [
        "from sklearn.feature_selection import RFE\n",
        "\n",
        "# Defining the Model\n",
        "linear_svm = LinearSVC(max_iter=1000,C=10)\n",
        "estimator=linear_svm\n",
        "rfe1 = RFE(estimator, step=1)               # recursive feature elimination\n",
        "\n",
        "X_train, X_test, Y_train, Y_test = train_test_split(X, y1, test_size=0.2)     # Splittiong the data into Testing and Traing data where training data is 80 percent while testing data is 20 percent\n",
        "\n",
        "# fitting the RFE Object into the Splitted Training Data \n",
        "rfe1.fit(X_train, Y_train)    \n",
        "\n",
        "print(rfe1.ranking_)    # Print the ranking of each feature\n",
        "print(rfe1.support_)  # Tells whether the feature is eliminated or not\n",
        "\n",
        "\n",
        "X_train_new1 = rfe1.transform(X_train)   # Reduce the unwanted feature from the training data\n",
        "X_test_new = rfe1.transform(X_test)     # Reduce the unwanted feature from the testing data\n",
        "model.fit(X_train_new1, Y_train)       # fitting the model for the reduced training data with Y_train\n",
        "Y_pred = model.predict(X_test_new)     # Predicting the data for reduced testing data\n",
        "Y_train1 = Y_train                 \n",
        "accuracy = accuracy_score(Y_test, Y_pred)   # Evaluating the Accuracy\n",
        "\n",
        "# Print the accuracy score\n",
        "print(\"Accuracy:\", accuracy)\n",
        "\n"
      ]
    },
    {
      "cell_type": "markdown",
      "metadata": {
        "id": "lqhYiaSwURQo"
      },
      "source": [
        "\n",
        "\n",
        "> For Multiclass\n",
        "\n"
      ]
    },
    {
      "cell_type": "code",
      "execution_count": 50,
      "metadata": {
        "colab": {
          "base_uri": "https://localhost:8080/"
        },
        "id": "Eb2bBlJIZmmA",
        "outputId": "5d990eda-6830-421a-caa8-916e1f6ab1a3"
      },
      "outputs": [
        {
          "output_type": "stream",
          "name": "stdout",
          "text": [
            "[24  1 34 26 11  1 35  1 28  1  6  3 31 14 10  1  1  1 16 15 25  1  1  1\n",
            "  1  9  1  1  1 17  4  1 22 32  1 12  1  1  1  7  1 29  1  1 30 13  1  1\n",
            " 37 36  1  1  8  1  1  1  1 21 33  1  1  1  1 27 20  2 19 18 23  5  1]\n",
            "[False  True False False False  True False  True False  True False False\n",
            " False False False  True  True  True False False False  True  True  True\n",
            "  True False  True  True  True False False  True False False  True False\n",
            "  True  True  True False  True False  True  True False False  True  True\n",
            " False False  True  True False  True  True  True  True False False  True\n",
            "  True  True  True False False False False False False False  True]\n",
            "Accuracy: 0.9869281045751634\n"
          ]
        }
      ],
      "source": [
        "from sklearn.feature_selection import RFE\n",
        "\n",
        "# Defining the Model\n",
        "linear_svm = LinearSVC(max_iter=1000,C=10)\n",
        "estimator=linear_svm\n",
        "rfe2 = RFE(estimator, step=1)               # recursive feature elimination\n",
        "\n",
        "X_train, X_test, Y_train, Y_test = train_test_split(X, y2, test_size=0.2)     # Splittiong the data into Testing and Traing data where training data is 80 percent while testing data is 20 percent\n",
        "\n",
        "# fitting the RFE Object into the Splitted Training Data \n",
        "rfe2.fit(X_train, Y_train)    \n",
        "\n",
        "print(rfe2.ranking_)    # Print the ranking of each feature\n",
        "print(rfe2.support_)  # Tells whether the feature is eliminated or not\n",
        "\n",
        "\n",
        "X_train_new2 = rfe2.transform(X_train)   # Reduce the unwanted feature from the training data\n",
        "X_test_new = rfe2.transform(X_test)     # Reduce the unwanted feature from the testing data\n",
        "model.fit(X_train_new2, Y_train)       # fitting the model for the reduced training data with Y_train\n",
        "Y_pred = model.predict(X_test_new)     # Predicting the data for reduced testing data\n",
        "Y_train2 = Y_train\n",
        "accuracy = accuracy_score(Y_test, Y_pred)   # Evaluating the Accuracy\n",
        "\n",
        "# Print the accuracy score\n",
        "print(\"Accuracy:\", accuracy)\n",
        "\n"
      ]
    },
    {
      "cell_type": "markdown",
      "source": [
        "REfERENCES:-\n",
        "\n",
        "> https://www.blog.trainindata.com/recursive-feature-elimination-with-python/\n",
        "\n",
        "\n",
        "> https://www.geeksforgeeks.org/recursive-feature-elimination-with-cross-validation-in-scikit-learn/\n",
        "\n",
        "\n",
        "\n",
        "\n"
      ],
      "metadata": {
        "id": "5aAtAy0Rcu7c"
      }
    },
    {
      "cell_type": "markdown",
      "metadata": {
        "id": "s2Jh6GioYSiP"
      },
      "source": [
        "**Random_Forest**"
      ]
    },
    {
      "cell_type": "markdown",
      "metadata": {
        "id": "WcxMJvIwVMYU"
      },
      "source": [
        "\n",
        "\n",
        "> For Binary CLass\n",
        "\n"
      ]
    },
    {
      "cell_type": "code",
      "execution_count": 59,
      "metadata": {
        "colab": {
          "base_uri": "https://localhost:8080/"
        },
        "id": "ExP7EHsGTdKK",
        "outputId": "cfd0ac54-528c-4829-dfb8-02fd3c112239"
      },
      "outputs": [
        {
          "output_type": "stream",
          "name": "stdout",
          "text": [
            "Accuracy:  0.9738562091503268\n"
          ]
        }
      ],
      "source": [
        "from sklearn.datasets import load_iris\n",
        "from sklearn.feature_selection import RFECV\n",
        "from sklearn.tree import DecisionTreeClassifier\n",
        "from sklearn.ensemble import RandomForestClassifier\n",
        "X_train, X_test, Y_train, Y_test = train_test_split(X,y1, test_size = 0.2, random_state = 0)\n",
        "X_train.shape, X_test.shape\n",
        "\n",
        "from sklearn.model_selection import train_test_split\n",
        "from sklearn.ensemble import RandomForestClassifier\n",
        "from sklearn. feature_selection import SelectFromModel\n",
        "from sklearn.metrics import accuracy_score\n",
        "from sklearn. feature_selection import RFE\n",
        "\n",
        "\n",
        "# Performing RFE using for Random FOrest Classication \n",
        "sel = RFE (RandomForestClassifier (n_estimators=100, random_state=0, n_jobs=-1), n_features_to_select = 15)\n",
        "\n",
        "# Fitting the Model\n",
        "sel.fit(X_train, Y_train)\n",
        "\n",
        "sel.fit(X_train, Y_train)\n",
        "sel.get_support()\n",
        "\n",
        "X_train.columns\n",
        "\n",
        "features = X_train.columns[sel.get_support()]\n",
        "features\n",
        "\n",
        "#Lenth of the features which are remained\n",
        "len(features)\n",
        "\n",
        "np.mean(sel. estimator_.feature_importances_)\n",
        "\n",
        "sel.estimator_.feature_importances_\n",
        "\n",
        "# Transforming X_train and X_test with recursive feature elimination\n",
        "x_train_rfe = sel.transform(X_train)\n",
        "x_test_rfe = sel.transform(X_test)\n",
        "\n",
        "# Defining a function to find the accuracy after the Random forst classification in the remained data\n",
        "def run_randomForest(X_train, X_test, Y_train, Y_test):\n",
        "    clf = RandomForestClassifier(n_estimators=100, random_state=0, n_jobs=-1)\n",
        "    clf.fit(X_train, Y_train)\n",
        "    y_pred = clf.predict(X_test)\n",
        "    print('Accuracy: ', accuracy_score(Y_test, y_pred))\n",
        "\n",
        "run_randomForest(x_train_rfe, x_test_rfe, Y_train, Y_test)\n"
      ]
    },
    {
      "cell_type": "markdown",
      "source": [
        "For MultiClass"
      ],
      "metadata": {
        "id": "NVdWFAGgcVNg"
      }
    },
    {
      "cell_type": "code",
      "source": [
        "from sklearn.datasets import load_iris\n",
        "from sklearn.feature_selection import RFECV\n",
        "from sklearn.tree import DecisionTreeClassifier\n",
        "from sklearn.ensemble import RandomForestClassifier\n",
        "X_train, X_test, Y_train, Y_test = train_test_split(X,y2, test_size = 0.2, random_state = 0)\n",
        "X_train.shape, X_test.shape\n",
        "\n",
        "from sklearn.model_selection import train_test_split\n",
        "from sklearn.ensemble import RandomForestClassifier\n",
        "from sklearn. feature_selection import SelectFromModel\n",
        "from sklearn.metrics import accuracy_score\n",
        "from sklearn. feature_selection import RFE\n",
        "\n",
        "\n",
        "# Performing RFE using for Random FOrest Classication \n",
        "sel = RFE (RandomForestClassifier (n_estimators=100, random_state=0, n_jobs=-1), n_features_to_select = 15)\n",
        "\n",
        "# Fitting the Model\n",
        "sel.fit(X_train, Y_train)\n",
        "\n",
        "sel.fit(X_train, Y_train)\n",
        "sel.get_support()\n",
        "\n",
        "X_train.columns\n",
        "\n",
        "features = X_train.columns[sel.get_support()]\n",
        "features\n",
        "\n",
        "#Lenth of the features which are remained\n",
        "len(features)\n",
        "\n",
        "np.mean(sel. estimator_.feature_importances_)\n",
        "\n",
        "sel.estimator_.feature_importances_\n",
        "\n",
        "# Transforming X_train and X_test with recursive feature elimination\n",
        "x_train_rfe = sel.transform(X_train)\n",
        "x_test_rfe = sel.transform(X_test)\n",
        "\n",
        "# Defining a function to find the accuracy after the Random forst classification in the remained data\n",
        "def run_randomForest(X_train, X_test, Y_train, Y_test):\n",
        "    clf = RandomForestClassifier(n_estimators=100, random_state=0, n_jobs=-1)\n",
        "    clf.fit(X_train, Y_train)\n",
        "    y_pred = clf.predict(X_test)\n",
        "    print('Accuracy: ', accuracy_score(Y_test, y_pred))\n",
        "\n",
        "run_randomForest(x_train_rfe, x_test_rfe, Y_train, Y_test)\n"
      ],
      "metadata": {
        "colab": {
          "base_uri": "https://localhost:8080/"
        },
        "id": "KxtO0uudcYw3",
        "outputId": "6b3c7827-ee35-4416-c2ab-06cdcfef6e60"
      },
      "execution_count": 60,
      "outputs": [
        {
          "output_type": "stream",
          "name": "stdout",
          "text": [
            "Accuracy:  0.9803921568627451\n"
          ]
        }
      ]
    },
    {
      "cell_type": "markdown",
      "source": [
        "REFERENCES:-\n",
        "\n",
        ">https://www.youtube.com/watch?v=pcZ4YlvhSKU&ab_channel=KGPTalkie\n",
        "\n"
      ],
      "metadata": {
        "id": "zfHoPiUXdI38"
      }
    },
    {
      "cell_type": "markdown",
      "metadata": {
        "id": "o2P1Wa90hUMu"
      },
      "source": [
        " **8. Finally, test a few promising models on the test data:\n",
        "https://www.ee.iitb.ac.in/~asethi/Dump/MouseTest.csv**"
      ]
    },
    {
      "cell_type": "markdown",
      "metadata": {
        "id": "5Q7dizmghjdQ"
      },
      "source": [
        "**Linear SVM** , For Multi Class"
      ]
    },
    {
      "cell_type": "code",
      "execution_count": 61,
      "metadata": {
        "colab": {
          "base_uri": "https://localhost:8080/",
          "height": 528
        },
        "id": "lSUKgPALhqoM",
        "outputId": "397485e6-2630-4e49-89eb-79781c1fe940"
      },
      "outputs": [
        {
          "output_type": "error",
          "ename": "ValueError",
          "evalue": "ignored",
          "traceback": [
            "\u001b[0;31m---------------------------------------------------------------------------\u001b[0m",
            "\u001b[0;31mValueError\u001b[0m                                Traceback (most recent call last)",
            "\u001b[0;32m<ipython-input-61-cb42e01d3bdb>\u001b[0m in \u001b[0;36m<module>\u001b[0;34m\u001b[0m\n\u001b[1;32m     21\u001b[0m \u001b[0;34m\u001b[0m\u001b[0m\n\u001b[1;32m     22\u001b[0m \u001b[0mestimator\u001b[0m \u001b[0;34m=\u001b[0m \u001b[0mLinearSVC\u001b[0m\u001b[0;34m(\u001b[0m\u001b[0mmax_iter\u001b[0m\u001b[0;34m=\u001b[0m\u001b[0;36m1000\u001b[0m\u001b[0;34m)\u001b[0m\u001b[0;34m\u001b[0m\u001b[0;34m\u001b[0m\u001b[0m\n\u001b[0;32m---> 23\u001b[0;31m \u001b[0mx_test\u001b[0m \u001b[0;34m=\u001b[0m \u001b[0mrfe2\u001b[0m\u001b[0;34m.\u001b[0m\u001b[0mtransform\u001b[0m\u001b[0;34m(\u001b[0m\u001b[0mdata_imputed_test\u001b[0m\u001b[0;34m)\u001b[0m\u001b[0;34m\u001b[0m\u001b[0;34m\u001b[0m\u001b[0m\n\u001b[0m\u001b[1;32m     24\u001b[0m \u001b[0mestimator\u001b[0m\u001b[0;34m.\u001b[0m\u001b[0mfit\u001b[0m\u001b[0;34m(\u001b[0m\u001b[0mX_train_new2\u001b[0m\u001b[0;34m,\u001b[0m \u001b[0my_train2\u001b[0m\u001b[0;34m)\u001b[0m   \u001b[0;31m# model fit with reduced features\u001b[0m\u001b[0;34m\u001b[0m\u001b[0;34m\u001b[0m\u001b[0m\n\u001b[1;32m     25\u001b[0m \u001b[0my_pred_test\u001b[0m \u001b[0;34m=\u001b[0m \u001b[0mestimator\u001b[0m\u001b[0;34m.\u001b[0m\u001b[0mpredict\u001b[0m\u001b[0;34m(\u001b[0m\u001b[0mx_test\u001b[0m\u001b[0;34m)\u001b[0m \u001b[0;31m# predicting the y vector from data and validation data\u001b[0m\u001b[0;34m\u001b[0m\u001b[0;34m\u001b[0m\u001b[0m\n",
            "\u001b[0;32m/usr/local/lib/python3.9/dist-packages/sklearn/utils/_set_output.py\u001b[0m in \u001b[0;36mwrapped\u001b[0;34m(self, X, *args, **kwargs)\u001b[0m\n\u001b[1;32m    138\u001b[0m     \u001b[0;34m@\u001b[0m\u001b[0mwraps\u001b[0m\u001b[0;34m(\u001b[0m\u001b[0mf\u001b[0m\u001b[0;34m)\u001b[0m\u001b[0;34m\u001b[0m\u001b[0;34m\u001b[0m\u001b[0m\n\u001b[1;32m    139\u001b[0m     \u001b[0;32mdef\u001b[0m \u001b[0mwrapped\u001b[0m\u001b[0;34m(\u001b[0m\u001b[0mself\u001b[0m\u001b[0;34m,\u001b[0m \u001b[0mX\u001b[0m\u001b[0;34m,\u001b[0m \u001b[0;34m*\u001b[0m\u001b[0margs\u001b[0m\u001b[0;34m,\u001b[0m \u001b[0;34m**\u001b[0m\u001b[0mkwargs\u001b[0m\u001b[0;34m)\u001b[0m\u001b[0;34m:\u001b[0m\u001b[0;34m\u001b[0m\u001b[0;34m\u001b[0m\u001b[0m\n\u001b[0;32m--> 140\u001b[0;31m         \u001b[0mdata_to_wrap\u001b[0m \u001b[0;34m=\u001b[0m \u001b[0mf\u001b[0m\u001b[0;34m(\u001b[0m\u001b[0mself\u001b[0m\u001b[0;34m,\u001b[0m \u001b[0mX\u001b[0m\u001b[0;34m,\u001b[0m \u001b[0;34m*\u001b[0m\u001b[0margs\u001b[0m\u001b[0;34m,\u001b[0m \u001b[0;34m**\u001b[0m\u001b[0mkwargs\u001b[0m\u001b[0;34m)\u001b[0m\u001b[0;34m\u001b[0m\u001b[0;34m\u001b[0m\u001b[0m\n\u001b[0m\u001b[1;32m    141\u001b[0m         \u001b[0;32mif\u001b[0m \u001b[0misinstance\u001b[0m\u001b[0;34m(\u001b[0m\u001b[0mdata_to_wrap\u001b[0m\u001b[0;34m,\u001b[0m \u001b[0mtuple\u001b[0m\u001b[0;34m)\u001b[0m\u001b[0;34m:\u001b[0m\u001b[0;34m\u001b[0m\u001b[0;34m\u001b[0m\u001b[0m\n\u001b[1;32m    142\u001b[0m             \u001b[0;31m# only wrap the first output for cross decomposition\u001b[0m\u001b[0;34m\u001b[0m\u001b[0;34m\u001b[0m\u001b[0m\n",
            "\u001b[0;32m/usr/local/lib/python3.9/dist-packages/sklearn/feature_selection/_base.py\u001b[0m in \u001b[0;36mtransform\u001b[0;34m(self, X)\u001b[0m\n\u001b[1;32m     81\u001b[0m         \u001b[0;31m# note: we use _safe_tags instead of _get_tags because this is a\u001b[0m\u001b[0;34m\u001b[0m\u001b[0;34m\u001b[0m\u001b[0m\n\u001b[1;32m     82\u001b[0m         \u001b[0;31m# public Mixin.\u001b[0m\u001b[0;34m\u001b[0m\u001b[0;34m\u001b[0m\u001b[0m\n\u001b[0;32m---> 83\u001b[0;31m         X = self._validate_data(\n\u001b[0m\u001b[1;32m     84\u001b[0m             \u001b[0mX\u001b[0m\u001b[0;34m,\u001b[0m\u001b[0;34m\u001b[0m\u001b[0;34m\u001b[0m\u001b[0m\n\u001b[1;32m     85\u001b[0m             \u001b[0mdtype\u001b[0m\u001b[0;34m=\u001b[0m\u001b[0;32mNone\u001b[0m\u001b[0;34m,\u001b[0m\u001b[0;34m\u001b[0m\u001b[0;34m\u001b[0m\u001b[0m\n",
            "\u001b[0;32m/usr/local/lib/python3.9/dist-packages/sklearn/base.py\u001b[0m in \u001b[0;36m_validate_data\u001b[0;34m(self, X, y, reset, validate_separately, **check_params)\u001b[0m\n\u001b[1;32m    546\u001b[0m             \u001b[0mvalidated\u001b[0m\u001b[0;34m.\u001b[0m\u001b[0;34m\u001b[0m\u001b[0;34m\u001b[0m\u001b[0m\n\u001b[1;32m    547\u001b[0m         \"\"\"\n\u001b[0;32m--> 548\u001b[0;31m         \u001b[0mself\u001b[0m\u001b[0;34m.\u001b[0m\u001b[0m_check_feature_names\u001b[0m\u001b[0;34m(\u001b[0m\u001b[0mX\u001b[0m\u001b[0;34m,\u001b[0m \u001b[0mreset\u001b[0m\u001b[0;34m=\u001b[0m\u001b[0mreset\u001b[0m\u001b[0;34m)\u001b[0m\u001b[0;34m\u001b[0m\u001b[0;34m\u001b[0m\u001b[0m\n\u001b[0m\u001b[1;32m    549\u001b[0m \u001b[0;34m\u001b[0m\u001b[0m\n\u001b[1;32m    550\u001b[0m         \u001b[0;32mif\u001b[0m \u001b[0my\u001b[0m \u001b[0;32mis\u001b[0m \u001b[0;32mNone\u001b[0m \u001b[0;32mand\u001b[0m \u001b[0mself\u001b[0m\u001b[0;34m.\u001b[0m\u001b[0m_get_tags\u001b[0m\u001b[0;34m(\u001b[0m\u001b[0;34m)\u001b[0m\u001b[0;34m[\u001b[0m\u001b[0;34m\"requires_y\"\u001b[0m\u001b[0;34m]\u001b[0m\u001b[0;34m:\u001b[0m\u001b[0;34m\u001b[0m\u001b[0;34m\u001b[0m\u001b[0m\n",
            "\u001b[0;32m/usr/local/lib/python3.9/dist-packages/sklearn/base.py\u001b[0m in \u001b[0;36m_check_feature_names\u001b[0;34m(self, X, reset)\u001b[0m\n\u001b[1;32m    479\u001b[0m                 )\n\u001b[1;32m    480\u001b[0m \u001b[0;34m\u001b[0m\u001b[0m\n\u001b[0;32m--> 481\u001b[0;31m             \u001b[0;32mraise\u001b[0m \u001b[0mValueError\u001b[0m\u001b[0;34m(\u001b[0m\u001b[0mmessage\u001b[0m\u001b[0;34m)\u001b[0m\u001b[0;34m\u001b[0m\u001b[0;34m\u001b[0m\u001b[0m\n\u001b[0m\u001b[1;32m    482\u001b[0m \u001b[0;34m\u001b[0m\u001b[0m\n\u001b[1;32m    483\u001b[0m     def _validate_data(\n",
            "\u001b[0;31mValueError\u001b[0m: The feature names should match those that were passed during fit.\nFeature names seen at fit time, yet now missing:\n- BAD_N\n- BCL2_N\n- EGR1_N\n- H3AcK18_N\n- H3MeK4_N\n- ...\n"
          ]
        }
      ],
      "source": [
        "import numpy as np\n",
        "import pandas as pd\n",
        "from sklearn.impute import SimpleImputer\n",
        "from sklearn.experimental import enable_iterative_imputer\n",
        "from sklearn.impute import IterativeImputer\n",
        "from sklearn.svm import LinearSVC, SVC\n",
        "\n",
        "url = 'https://www.ee.iitb.ac.in/~asethi/Dump/MouseTest.csv' # URL of the CSV file to read\n",
        "Data = pd.read_csv(url) # Read the CSV file into a DataFrame\n",
        "Test_Data = Data.drop(columns=['Genotype' , 'Treatment_Behavior'])\n",
        "Y1_test = Data['Treatment_Behavior']\n",
        "Y2_test = Data['Genotype']\n",
        "\n",
        "X_data_test = Test_Data.drop(['pS6_N', 'ITSN1_N', 'BRAF_N', 'pNR1_N', 'Bcatenin_N', 'pNR2B_N'], axis = 1)\n",
        "X_data_final = X_data_test.drop(['H3MeK4_N', 'BCL2_N', 'BAD_N', 'H3AcK18_N', 'EGR1_N', 'pCFOS_N'], axis=1)\n",
        " \n",
        "\n",
        "imp = IterativeImputer(max_iter=10, random_state=0)\n",
        "imp.fit(X_data_final)\n",
        "data_imputed_test = pd.DataFrame(data=imp.transform(X_data_final), columns=X_data_final.columns)\n",
        "\n",
        "estimator = LinearSVC(max_iter=1000)\n",
        "x_test = rfe2.transform(data_imputed_test)\n",
        "estimator.fit(X_train_new2, y_train2)   # model fit with reduced features\n",
        "y_pred_test = estimator.predict(x_test) # predicting the y vector from data and validation data\n",
        "\n",
        "# Evaluate the model's accuracy on the test data\n",
        "accuracy = accuracy_score(Y1_test, y_pred_test)\n",
        "\n",
        "# Print the accuracy score\n",
        "print(\"Accuracy:\", accuracy) "
      ]
    },
    {
      "cell_type": "markdown",
      "metadata": {
        "id": "Ka7ayDzJbwVl"
      },
      "source": [
        "# Objective 2\n",
        "\n",
        "\n"
      ]
    },
    {
      "cell_type": "markdown",
      "metadata": {
        "id": "NB1Jbttbb9bc"
      },
      "source": [
        "**9. Read the pytorch tutorial to use a pre-trained “ConvNet as fixed feature extractor” fromhttps://pytorch.org/tutorials/beginner/transfer_learning_tutorial.html and you can ignore “finetuning theConvNet”. Test this code out to see if it runs properly in your environment after eliminating code blocks thatyou do not need. [2]**"
      ]
    },
    {
      "cell_type": "code",
      "execution_count": 4,
      "metadata": {
        "id": "tGyEw5MdcIuT"
      },
      "outputs": [],
      "source": [
        "%matplotlib inline\n"
      ]
    },
    {
      "cell_type": "code",
      "execution_count": 7,
      "metadata": {
        "id": "saB4s2JSN8UA"
      },
      "outputs": [],
      "source": [
        "import zipfile\n",
        "zip_ref = zipfile.ZipFile('/content/hymenoptera_data.zip', 'r')\n",
        "zip_ref.extractall('/content')\n",
        "zip_ref.close()\n",
        "\n",
        "\n"
      ]
    },
    {
      "cell_type": "code",
      "execution_count": 8,
      "metadata": {
        "id": "ncc6goQxUN4G",
        "colab": {
          "base_uri": "https://localhost:8080/"
        },
        "outputId": "7d87bb26-bc98-4f71-d312-ea6a0650f23c"
      },
      "outputs": [
        {
          "output_type": "execute_result",
          "data": {
            "text/plain": [
              "<contextlib.ExitStack at 0x7f0c6c4e3280>"
            ]
          },
          "metadata": {},
          "execution_count": 8
        }
      ],
      "source": [
        "# License: BSD\n",
        "# Author: Sasank Chilamkurthy\n",
        "\n",
        "from __future__ import print_function, division\n",
        "\n",
        "import torch\n",
        "import torch.nn as nn\n",
        "import torch.optim as optim\n",
        "from torch.optim import lr_scheduler\n",
        "import torch.backends.cudnn as cudnn\n",
        "import numpy as np\n",
        "import torchvision\n",
        "from torchvision import datasets, models, transforms\n",
        "import matplotlib.pyplot as plt\n",
        "import time\n",
        "import os\n",
        "import copy\n",
        "\n",
        "cudnn.benchmark = True\n",
        "plt.ion()   # interactive mode"
      ]
    },
    {
      "cell_type": "code",
      "execution_count": 9,
      "metadata": {
        "id": "pJSIYGF9UOGe",
        "colab": {
          "base_uri": "https://localhost:8080/"
        },
        "outputId": "74953562-e960-4cbc-8723-d1d92506cad9"
      },
      "outputs": [
        {
          "output_type": "stream",
          "name": "stderr",
          "text": [
            "/usr/local/lib/python3.9/dist-packages/torch/utils/data/dataloader.py:554: UserWarning: This DataLoader will create 4 worker processes in total. Our suggested max number of worker in current system is 2, which is smaller than what this DataLoader is going to create. Please be aware that excessive worker creation might get DataLoader running slow or even freeze, lower the worker number to avoid potential slowness/freeze if necessary.\n",
            "  warnings.warn(_create_warning_msg(\n"
          ]
        }
      ],
      "source": [
        "# Data augmentation and normalization for training\n",
        "# Just normalization for validation\n",
        "data_transforms = {\n",
        "    'train': transforms.Compose([\n",
        "        transforms.RandomResizedCrop(224),\n",
        "        transforms.RandomHorizontalFlip(),\n",
        "        transforms.ToTensor(),\n",
        "        transforms.Normalize([0.485, 0.456, 0.406], [0.229, 0.224, 0.225])\n",
        "    ]),\n",
        "    'val': transforms.Compose([\n",
        "        transforms.Resize(256),\n",
        "        transforms.CenterCrop(224),\n",
        "        transforms.ToTensor(),\n",
        "        transforms.Normalize([0.485, 0.456, 0.406], [0.229, 0.224, 0.225])\n",
        "    ]),\n",
        "}\n",
        "\n",
        "data_dir = '/content/hymenoptera_data'\n",
        "image_datasets = {x: datasets.ImageFolder(os.path.join(data_dir, x),\n",
        "                                          data_transforms[x])\n",
        "                  for x in ['train', 'val']}\n",
        "dataloaders = {x: torch.utils.data.DataLoader(image_datasets[x], batch_size=4,\n",
        "                                             shuffle=True, num_workers=4)\n",
        "              for x in ['train', 'val']}\n",
        "dataset_sizes = {x: len(image_datasets[x]) for x in ['train', 'val']}\n",
        "class_names = image_datasets['train'].classes\n",
        "\n",
        "device = torch.device(\"cuda:0\" if torch.cuda.is_available() else \"cpu\")"
      ]
    },
    {
      "cell_type": "code",
      "execution_count": 10,
      "metadata": {
        "id": "oRblI-caUOK6",
        "colab": {
          "base_uri": "https://localhost:8080/",
          "height": 148
        },
        "outputId": "5f3de822-ed86-42d0-aa63-923c8d5168ab"
      },
      "outputs": [
        {
          "output_type": "display_data",
          "data": {
            "text/plain": [
              "<Figure size 432x288 with 1 Axes>"
            ],
            "image/png": "[encoded data removed]"
          },
          "metadata": {
            "needs_background": "light"
          }
        }
      ],
      "source": [
        "def imshow(inp, title=None):\n",
        "    \"\"\"Imshow for Tensor.\"\"\"\n",
        "    inp = inp.numpy().transpose((1, 2, 0))\n",
        "    mean = np.array([0.485, 0.456, 0.406])\n",
        "    std = np.array([0.229, 0.224, 0.225])\n",
        "    inp = std * inp + mean\n",
        "    inp = np.clip(inp, 0, 1)\n",
        "    plt.imshow(inp)\n",
        "    if title is not None:\n",
        "        plt.title(title)\n",
        "    plt.pause(0.001)  # pause a bit so that plots are updated\n",
        "\n",
        "\n",
        "# Get a batch of training data\n",
        "inputs, classes = next(iter(dataloaders['train']))\n",
        "\n",
        "# Make a grid from batch\n",
        "out = torchvision.utils.make_grid(inputs)\n",
        "\n",
        "imshow(out, title=[class_names[x] for x in classes])"
      ]
    },
    {
      "cell_type": "markdown",
      "metadata": {
        "id": "dFXcbjAKdCYR"
      },
      "source": [
        "Training the model\n"
      ]
    },
    {
      "cell_type": "code",
      "execution_count": 11,
      "metadata": {
        "id": "gR_qFfMyUONo"
      },
      "outputs": [],
      "source": [
        "def train_model(model, criterion, optimizer, scheduler, num_epochs=25):\n",
        "    since = time.time()\n",
        "\n",
        "    best_model_wts = copy.deepcopy(model.state_dict())\n",
        "    best_acc = 0.0\n",
        "\n",
        "    for epoch in range(num_epochs):\n",
        "        print(f'Epoch {epoch}/{num_epochs - 1}')\n",
        "        print('-' * 10)\n",
        "\n",
        "        # Each epoch has a training and validation phase\n",
        "        for phase in ['train', 'val']:\n",
        "            if phase == 'train':\n",
        "                model.train()  # Set model to training mode\n",
        "            else:\n",
        "                model.eval()   # Set model to evaluate mode\n",
        "\n",
        "            running_loss = 0.0\n",
        "            running_corrects = 0\n",
        "\n",
        "            # Iterate over data.\n",
        "            for inputs, labels in dataloaders[phase]:\n",
        "                inputs = inputs.to(device)\n",
        "                labels = labels.to(device)\n",
        "\n",
        "                # zero the parameter gradients\n",
        "                optimizer.zero_grad()\n",
        "\n",
        "                # forward\n",
        "                # track history if only in train\n",
        "                with torch.set_grad_enabled(phase == 'train'):\n",
        "                    outputs = model(inputs)\n",
        "                    _, preds = torch.max(outputs, 1)\n",
        "                    loss = criterion(outputs, labels)\n",
        "\n",
        "                    # backward + optimize only if in training phase\n",
        "                    if phase == 'train':\n",
        "                        loss.backward()\n",
        "                        optimizer.step()\n",
        "\n",
        "                # statistics\n",
        "                running_loss += loss.item() * inputs.size(0)\n",
        "                running_corrects += torch.sum(preds == labels.data)\n",
        "            if phase == 'train':\n",
        "                scheduler.step()\n",
        "\n",
        "            epoch_loss = running_loss / dataset_sizes[phase]\n",
        "            epoch_acc = running_corrects.double() / dataset_sizes[phase]\n",
        "\n",
        "            print(f'{phase} Loss: {epoch_loss:.4f} Acc: {epoch_acc:.4f}')\n",
        "\n",
        "            # deep copy the model\n",
        "            if phase == 'val' and epoch_acc > best_acc:\n",
        "                best_acc = epoch_acc\n",
        "                best_model_wts = copy.deepcopy(model.state_dict())\n",
        "\n",
        "        print()\n",
        "\n",
        "    time_elapsed = time.time() - since\n",
        "    print(f'Training complete in {time_elapsed // 60:.0f}m {time_elapsed % 60:.0f}s')\n",
        "    print(f'Best val Acc: {best_acc:4f}')\n",
        "\n",
        "    # load best model weights\n",
        "    model.load_state_dict(best_model_wts)\n",
        "    return model"
      ]
    },
    {
      "cell_type": "markdown",
      "metadata": {
        "id": "fZiLXgsydL6Q"
      },
      "source": [
        "Visualizing the model predictions"
      ]
    },
    {
      "cell_type": "code",
      "execution_count": 12,
      "metadata": {
        "id": "uIquvndPUOQ3"
      },
      "outputs": [],
      "source": [
        "def visualize_model(model, num_images=6):\n",
        "    was_training = model.training\n",
        "    model.eval()\n",
        "    images_so_far = 0\n",
        "    fig = plt.figure()\n",
        "\n",
        "    with torch.no_grad():\n",
        "        for i, (inputs, labels) in enumerate(dataloaders['val']):\n",
        "            inputs = inputs.to(device)\n",
        "            labels = labels.to(device)\n",
        "\n",
        "            outputs = model(inputs)\n",
        "            _, preds = torch.max(outputs, 1)\n",
        "\n",
        "            for j in range(inputs.size()[0]):\n",
        "                images_so_far += 1\n",
        "                ax = plt.subplot(num_images//2, 2, images_so_far)\n",
        "                ax.axis('off')\n",
        "                ax.set_title(f'predicted: {class_names[preds[j]]}')\n",
        "                imshow(inputs.cpu().data[j])\n",
        "\n",
        "                if images_so_far == num_images:\n",
        "                    model.train(mode=was_training)\n",
        "                    return\n",
        "        model.train(mode=was_training)"
      ]
    },
    {
      "cell_type": "markdown",
      "metadata": {
        "id": "58MUADVNdV-_"
      },
      "source": [
        "ConvNet as fixed feature extractor\n"
      ]
    },
    {
      "cell_type": "code",
      "execution_count": 13,
      "metadata": {
        "id": "fUHnwg_idXrm",
        "colab": {
          "base_uri": "https://localhost:8080/",
          "height": 161,
          "referenced_widgets": [
            "4d679b4e0f3c49b486f51c2d31375eff",
            "0dd75db6f4d6461588aeee19d7b7d2ea",
            "4d55703aa25741a19c5a8e71af7cfed6",
            "83eaaec3389c4304b3b75788339cf745",
            "b51f2e3e30c54166b99ff12fc01b4798",
            "00b1cfe9ff574a12b1cd0564846d4af6",
            "15b02b6dc82444699e2a5c7345cb5674",
            "df15e33caabd42db9c5a3cdf823618a3",
            "6127364eb0454925bc09379ac8cd4c20",
            "a1a1b189c0f54310ba36b79d877ca6d7",
            "2769469d9e34486b9848f785dd452faf"
          ]
        },
        "outputId": "5bb21f3e-aa70-462c-e56c-a022a2dc2ba5"
      },
      "outputs": [
        {
          "output_type": "stream",
          "name": "stderr",
          "text": [
            "/usr/local/lib/python3.9/dist-packages/torchvision/models/_utils.py:208: UserWarning: The parameter 'pretrained' is deprecated since 0.13 and may be removed in the future, please use 'weights' instead.\n",
            "  warnings.warn(\n",
            "/usr/local/lib/python3.9/dist-packages/torchvision/models/_utils.py:223: UserWarning: Arguments other than a weight enum or `None` for 'weights' are deprecated since 0.13 and may be removed in the future. The current behavior is equivalent to passing `weights=ResNet18_Weights.IMAGENET1K_V1`. You can also use `weights=ResNet18_Weights.DEFAULT` to get the most up-to-date weights.\n",
            "  warnings.warn(msg)\n",
            "Downloading: \"https://download.pytorch.org/models/resnet18-f37072fd.pth\" to /root/.cache/torch/hub/checkpoints/resnet18-f37072fd.pth\n"
          ]
        },
        {
          "output_type": "display_data",
          "data": {
            "text/plain": [
              "  0%|          | 0.00/44.7M [00:00<?, ?B/s]"
            ],
            "application/vnd.jupyter.widget-view+json": {
              "version_major": 2,
              "version_minor": 0,
              "model_id": "4d679b4e0f3c49b486f51c2d31375eff"
            }
          },
          "metadata": {}
        }
      ],
      "source": [
        "model_conv = torchvision.models.resnet18(pretrained=True)\n",
        "for param in model_conv.parameters():\n",
        "    param.requires_grad = False\n",
        "\n",
        "# Parameters of newly constructed modules have requires_grad=True by default\n",
        "num_ftrs = model_conv.fc.in_features\n",
        "model_conv.fc = nn.Linear(num_ftrs, 2)\n",
        "\n",
        "model_conv = model_conv.to(device)\n",
        "\n",
        "criterion = nn.CrossEntropyLoss()\n",
        "\n",
        "# Observe that only parameters of final layer are being optimized as\n",
        "# opposed to before.\n",
        "optimizer_conv = optim.SGD(model_conv.fc.parameters(), lr=0.001, momentum=0.9)\n",
        "\n",
        "# Decay LR by a factor of 0.1 every 7 epochs\n",
        "exp_lr_scheduler = lr_scheduler.StepLR(optimizer_conv, step_size=7, gamma=0.1)"
      ]
    },
    {
      "cell_type": "markdown",
      "metadata": {
        "id": "VHQf3qP0drps"
      },
      "source": [
        "Train and evaluate"
      ]
    },
    {
      "cell_type": "code",
      "execution_count": 14,
      "metadata": {
        "id": "oBXAAjMSdwj3",
        "colab": {
          "base_uri": "https://localhost:8080/"
        },
        "outputId": "02f9adc3-8700-4800-ae09-c98695d824db"
      },
      "outputs": [
        {
          "output_type": "stream",
          "name": "stdout",
          "text": [
            "Epoch 0/1\n",
            "----------\n",
            "train Loss: 0.5391 Acc: 0.7213\n",
            "val Loss: 0.3367 Acc: 0.8431\n",
            "\n",
            "Epoch 1/1\n",
            "----------\n",
            "train Loss: 0.5373 Acc: 0.7459\n",
            "val Loss: 0.4198 Acc: 0.8366\n",
            "\n",
            "Training complete in 1m 21s\n",
            "Best val Acc: 0.843137\n"
          ]
        }
      ],
      "source": [
        "model_conv = train_model(model_conv, criterion, optimizer_conv,\n",
        "                         exp_lr_scheduler, num_epochs=2)"
      ]
    },
    {
      "cell_type": "code",
      "execution_count": 15,
      "metadata": {
        "id": "i_rZK4ZafBtv",
        "colab": {
          "base_uri": "https://localhost:8080/",
          "height": 581
        },
        "outputId": "c6060615-3179-4701-c247-28cdf8ab5b10"
      },
      "outputs": [
        {
          "output_type": "display_data",
          "data": {
            "text/plain": [
              "<Figure size 432x288 with 1 Axes>"
            ],
            "image/png": "[encoded data removed]"
          },
          "metadata": {
            "needs_background": "light"
          }
        },
        {
          "output_type": "display_data",
          "data": {
            "text/plain": [
              "<Figure size 432x288 with 1 Axes>"
            ],
            "image/png": "[encoded data removed]"
          },
          "metadata": {
            "needs_background": "light"
          }
        },
        {
          "output_type": "display_data",
          "data": {
            "text/plain": [
              "<Figure size 432x288 with 1 Axes>"
            ],
            "image/png": "[encoded data removed]"
          },
          "metadata": {
            "needs_background": "light"
          }
        },
        {
          "output_type": "display_data",
          "data": {
            "text/plain": [
              "<Figure size 432x288 with 1 Axes>"
            ],
            "image/png": "[encoded data removed]"
          },
          "metadata": {
            "needs_background": "light"
          }
        },
        {
          "output_type": "display_data",
          "data": {
            "text/plain": [
              "<Figure size 432x288 with 1 Axes>"
            ],
            "image/png": "[encoded data removed]"
          },
          "metadata": {
            "needs_background": "light"
          }
        },
        {
          "output_type": "display_data",
          "data": {
            "text/plain": [
              "<Figure size 432x288 with 1 Axes>"
            ],
            "image/png": "[encoded data removed]"
          },
          "metadata": {
            "needs_background": "light"
          }
        }
      ],
      "source": [
        "visualize_model(model_conv)\n",
        "\n",
        "plt.ioff()\n",
        "plt.show()"
      ]
    },
    {
      "cell_type": "markdown",
      "source": [
        "Reference:-https://www.youtube.com/watch?v=pcZ4YlvhSKU&ab_channel=KGPTalkie"
      ],
      "metadata": {
        "id": "jxpdwtx0dy2X"
      }
    },
    {
      "cell_type": "markdown",
      "source": [
        "**10. Write a function that outputs ResNet18 features for a given input image. Extract features for training images(in image_datasets['train']). You should get an Nx512 dimensional array.**"
      ],
      "metadata": {
        "id": "fOHSe7ubJStp"
      }
    },
    {
      "cell_type": "code",
      "execution_count": 16,
      "metadata": {
        "id": "fElR57wHgOOc"
      },
      "outputs": [],
      "source": [
        "from PIL import Image\n",
        "import torch\n",
        "import torchvision.models as models\n",
        "import torchvision.transforms as transforms\n",
        "\n",
        "def extract_resnet_features(image_path):\n",
        "    # Load the pre-trained ResNet18 model\n",
        "    resnet = models.resnet18(pretrained=True)\n",
        "\n",
        "    # Remove the last fully connected layer\n",
        "    modules = list(resnet.children())[:-1]\n",
        "    resnet = torch.nn.Sequential(*modules)\n",
        "\n",
        "    # Set the model to evaluation mode\n",
        "    resnet.eval()\n",
        "\n",
        "    # Load the image and apply the appropriate transformations\n",
        "    image = Image.open('/content/hymenoptera_data/train/ants/0013035.jpg')\n",
        "    transform = transforms.Compose([\n",
        "        transforms.Resize(256),\n",
        "        transforms.CenterCrop(224),\n",
        "        transforms.ToTensor(),\n",
        "        transforms.Normalize(mean=[0.485, 0.456, 0.406],\n",
        "                             std=[0.229, 0.224, 0.225])\n",
        "    ])\n",
        "    image = transform(image).unsqueeze(0)\n",
        "\n",
        "    # Extract the features for the image\n",
        "    with torch.no_grad():\n",
        "        features = resnet(image)\n",
        "\n",
        "    # Return the features as a numpy array\n",
        "    return features.squeeze().numpy()\n",
        "    "
      ]
    },
    {
      "cell_type": "code",
      "execution_count": 17,
      "metadata": {
        "id": "k-sqThwHgTwH",
        "colab": {
          "base_uri": "https://localhost:8080/"
        },
        "outputId": "5198f190-7cea-4fec-f58b-c6313c6ed0a8"
      },
      "outputs": [
        {
          "output_type": "stream",
          "name": "stdout",
          "text": [
            "(244, 512)\n"
          ]
        }
      ],
      "source": [
        "features = []\n",
        "for inputs, labels in dataloaders['train']:\n",
        "    for img_tensor in inputs:\n",
        "        img_features = extract_resnet_features(img_tensor)\n",
        "        features.append(img_features)\n",
        "\n",
        "features = np.array(features)\n",
        "print(features.shape)  # should output (N, 512)"
      ]
    },
    {
      "cell_type": "markdown",
      "source": [
        "References for 10:- Took help from friend PAVAN , ROll no. 22M1082"
      ],
      "metadata": {
        "id": "zHVhtioxdmgC"
      }
    },
    {
      "cell_type": "markdown",
      "source": [
        "**12. Summarize your findings and write your references.**\n",
        "\n",
        "> Q:01:-learnt to how to read the CSV file. \n",
        "\n",
        "> Q:02:-Performed exploratory Data analysis beased on correlation and the No. of null values in a feature.\n",
        "https://www.youtube.com/watch?v=-o3AxdVcUtQ&list=LL&index=36&ab_channel=edureka%21\n",
        "\n",
        "\n",
        "> Q:03:- Used Iterative Imputer which comes under the multivariate imputation to imputes the NaN values.\n",
        "\n",
        "\n",
        "> Q:04:- Read up about differnet metrics. and used accuracy for binary classification and the F1 score for the multi classification.\n",
        "\n",
        "\n",
        "> Q:05:- Learnt about how split the data and can be separated into the training and the testing data. learnt to use the grid searchCV from scikit learn and learnt about the different hyperparameters in each four models.\n",
        "\n",
        "\n",
        "> Q:06:- read up about feature importance and used permutation feature importance as the feature importance for first three model other than random forest model.\n",
        "\n",
        "> Q:07:- Used Recursive feature elimination to eliminate the features in the data matrix. AFter feature elimination the accuracy was quite good and reaching upto 95 to 98 percent for the training data .\n",
        "\n",
        "\n",
        "\n",
        "> Q:08:-Tried to to the accuracy check on the test data but some missing feature error is coming , teying to solve.\n",
        "\n",
        "\n",
        "> Q:09 and Q:10:- From the given link in the question, learnt how to read the ZIP file . And learnt to train the model to classify the images. Visualized the images with some sample data followed by the the extarction of the features.\n",
        "\n",
        " REFERENCES:- Discussed with My friend 22M1088, 22M1082, 22M1086 and 22M1200 for concptes and some of the code blocks. And refereed to some youtube lectures and the Google to know the concepts and the code block as well. Link to the websites from where I have read up has been given as references after every question.\n",
        "\n",
        "\n",
        "\n",
        "\n",
        "\n",
        "\n",
        "\n",
        "\n",
        "\n",
        "\n",
        "\n",
        "\n",
        "\n",
        "\n",
        "\n",
        "\n",
        "\n",
        "\n"
      ],
      "metadata": {
        "id": "eYDn_6jrJjwu"
      }
    }
  ],
  "metadata": {
    "colab": {
      "provenance": []
    },
    "kernelspec": {
      "display_name": "Python 3",
      "name": "python3"
    },
    "language_info": {
      "name": "python"
    },
    "widgets": {
      "application/vnd.jupyter.widget-state+json": {
        "4d679b4e0f3c49b486f51c2d31375eff": {
          "model_module": "@jupyter-widgets/controls",
          "model_name": "HBoxModel",
          "model_module_version": "1.5.0",
          "state": {
            "_dom_classes": [],
            "_model_module": "@jupyter-widgets/controls",
            "_model_module_version": "1.5.0",
            "_model_name": "HBoxModel",
            "_view_count": null,
            "_view_module": "@jupyter-widgets/controls",
            "_view_module_version": "1.5.0",
            "_view_name": "HBoxView",
            "box_style": "",
            "children": [
              "IPY_MODEL_0dd75db6f4d6461588aeee19d7b7d2ea",
              "IPY_MODEL_4d55703aa25741a19c5a8e71af7cfed6",
              "IPY_MODEL_83eaaec3389c4304b3b75788339cf745"
            ],
            "layout": "IPY_MODEL_b51f2e3e30c54166b99ff12fc01b4798"
          }
        },
        "0dd75db6f4d6461588aeee19d7b7d2ea": {
          "model_module": "@jupyter-widgets/controls",
          "model_name": "HTMLModel",
          "model_module_version": "1.5.0",
          "state": {
            "_dom_classes": [],
            "_model_module": "@jupyter-widgets/controls",
            "_model_module_version": "1.5.0",
            "_model_name": "HTMLModel",
            "_view_count": null,
            "_view_module": "@jupyter-widgets/controls",
            "_view_module_version": "1.5.0",
            "_view_name": "HTMLView",
            "description": "",
            "description_tooltip": null,
            "layout": "IPY_MODEL_00b1cfe9ff574a12b1cd0564846d4af6",
            "placeholder": "​",
            "style": "IPY_MODEL_15b02b6dc82444699e2a5c7345cb5674",
            "value": "100%"
          }
        },
        "4d55703aa25741a19c5a8e71af7cfed6": {
          "model_module": "@jupyter-widgets/controls",
          "model_name": "FloatProgressModel",
          "model_module_version": "1.5.0",
          "state": {
            "_dom_classes": [],
            "_model_module": "@jupyter-widgets/controls",
            "_model_module_version": "1.5.0",
            "_model_name": "FloatProgressModel",
            "_view_count": null,
            "_view_module": "@jupyter-widgets/controls",
            "_view_module_version": "1.5.0",
            "_view_name": "ProgressView",
            "bar_style": "success",
            "description": "",
            "description_tooltip": null,
            "layout": "IPY_MODEL_df15e33caabd42db9c5a3cdf823618a3",
            "max": 46830571,
            "min": 0,
            "orientation": "horizontal",
            "style": "IPY_MODEL_6127364eb0454925bc09379ac8cd4c20",
            "value": 46830571
          }
        },
        "83eaaec3389c4304b3b75788339cf745": {
          "model_module": "@jupyter-widgets/controls",
          "model_name": "HTMLModel",
          "model_module_version": "1.5.0",
          "state": {
            "_dom_classes": [],
            "_model_module": "@jupyter-widgets/controls",
            "_model_module_version": "1.5.0",
            "_model_name": "HTMLModel",
            "_view_count": null,
            "_view_module": "@jupyter-widgets/controls",
            "_view_module_version": "1.5.0",
            "_view_name": "HTMLView",
            "description": "",
            "description_tooltip": null,
            "layout": "IPY_MODEL_a1a1b189c0f54310ba36b79d877ca6d7",
            "placeholder": "​",
            "style": "IPY_MODEL_2769469d9e34486b9848f785dd452faf",
            "value": " 44.7M/44.7M [00:00&lt;00:00, 81.3MB/s]"
          }
        },
        "b51f2e3e30c54166b99ff12fc01b4798": {
          "model_module": "@jupyter-widgets/base",
          "model_name": "LayoutModel",
          "model_module_version": "1.2.0",
          "state": {
            "_model_module": "@jupyter-widgets/base",
            "_model_module_version": "1.2.0",
            "_model_name": "LayoutModel",
            "_view_count": null,
            "_view_module": "@jupyter-widgets/base",
            "_view_module_version": "1.2.0",
            "_view_name": "LayoutView",
            "align_content": null,
            "align_items": null,
            "align_self": null,
            "border": null,
            "bottom": null,
            "display": null,
            "flex": null,
            "flex_flow": null,
            "grid_area": null,
            "grid_auto_columns": null,
            "grid_auto_flow": null,
            "grid_auto_rows": null,
            "grid_column": null,
            "grid_gap": null,
            "grid_row": null,
            "grid_template_areas": null,
            "grid_template_columns": null,
            "grid_template_rows": null,
            "height": null,
            "justify_content": null,
            "justify_items": null,
            "left": null,
            "margin": null,
            "max_height": null,
            "max_width": null,
            "min_height": null,
            "min_width": null,
            "object_fit": null,
            "object_position": null,
            "order": null,
            "overflow": null,
            "overflow_x": null,
            "overflow_y": null,
            "padding": null,
            "right": null,
            "top": null,
            "visibility": null,
            "width": null
          }
        },
        "00b1cfe9ff574a12b1cd0564846d4af6": {
          "model_module": "@jupyter-widgets/base",
          "model_name": "LayoutModel",
          "model_module_version": "1.2.0",
          "state": {
            "_model_module": "@jupyter-widgets/base",
            "_model_module_version": "1.2.0",
            "_model_name": "LayoutModel",
            "_view_count": null,
            "_view_module": "@jupyter-widgets/base",
            "_view_module_version": "1.2.0",
            "_view_name": "LayoutView",
            "align_content": null,
            "align_items": null,
            "align_self": null,
            "border": null,
            "bottom": null,
            "display": null,
            "flex": null,
            "flex_flow": null,
            "grid_area": null,
            "grid_auto_columns": null,
            "grid_auto_flow": null,
            "grid_auto_rows": null,
            "grid_column": null,
            "grid_gap": null,
            "grid_row": null,
            "grid_template_areas": null,
            "grid_template_columns": null,
            "grid_template_rows": null,
            "height": null,
            "justify_content": null,
            "justify_items": null,
            "left": null,
            "margin": null,
            "max_height": null,
            "max_width": null,
            "min_height": null,
            "min_width": null,
            "object_fit": null,
            "object_position": null,
            "order": null,
            "overflow": null,
            "overflow_x": null,
            "overflow_y": null,
            "padding": null,
            "right": null,
            "top": null,
            "visibility": null,
            "width": null
          }
        },
        "15b02b6dc82444699e2a5c7345cb5674": {
          "model_module": "@jupyter-widgets/controls",
          "model_name": "DescriptionStyleModel",
          "model_module_version": "1.5.0",
          "state": {
            "_model_module": "@jupyter-widgets/controls",
            "_model_module_version": "1.5.0",
            "_model_name": "DescriptionStyleModel",
            "_view_count": null,
            "_view_module": "@jupyter-widgets/base",
            "_view_module_version": "1.2.0",
            "_view_name": "StyleView",
            "description_width": ""
          }
        },
        "df15e33caabd42db9c5a3cdf823618a3": {
          "model_module": "@jupyter-widgets/base",
          "model_name": "LayoutModel",
          "model_module_version": "1.2.0",
          "state": {
            "_model_module": "@jupyter-widgets/base",
            "_model_module_version": "1.2.0",
            "_model_name": "LayoutModel",
            "_view_count": null,
            "_view_module": "@jupyter-widgets/base",
            "_view_module_version": "1.2.0",
            "_view_name": "LayoutView",
            "align_content": null,
            "align_items": null,
            "align_self": null,
            "border": null,
            "bottom": null,
            "display": null,
            "flex": null,
            "flex_flow": null,
            "grid_area": null,
            "grid_auto_columns": null,
            "grid_auto_flow": null,
            "grid_auto_rows": null,
            "grid_column": null,
            "grid_gap": null,
            "grid_row": null,
            "grid_template_areas": null,
            "grid_template_columns": null,
            "grid_template_rows": null,
            "height": null,
            "justify_content": null,
            "justify_items": null,
            "left": null,
            "margin": null,
            "max_height": null,
            "max_width": null,
            "min_height": null,
            "min_width": null,
            "object_fit": null,
            "object_position": null,
            "order": null,
            "overflow": null,
            "overflow_x": null,
            "overflow_y": null,
            "padding": null,
            "right": null,
            "top": null,
            "visibility": null,
            "width": null
          }
        },
        "6127364eb0454925bc09379ac8cd4c20": {
          "model_module": "@jupyter-widgets/controls",
          "model_name": "ProgressStyleModel",
          "model_module_version": "1.5.0",
          "state": {
            "_model_module": "@jupyter-widgets/controls",
            "_model_module_version": "1.5.0",
            "_model_name": "ProgressStyleModel",
            "_view_count": null,
            "_view_module": "@jupyter-widgets/base",
            "_view_module_version": "1.2.0",
            "_view_name": "StyleView",
            "bar_color": null,
            "description_width": ""
          }
        },
        "a1a1b189c0f54310ba36b79d877ca6d7": {
          "model_module": "@jupyter-widgets/base",
          "model_name": "LayoutModel",
          "model_module_version": "1.2.0",
          "state": {
            "_model_module": "@jupyter-widgets/base",
            "_model_module_version": "1.2.0",
            "_model_name": "LayoutModel",
            "_view_count": null,
            "_view_module": "@jupyter-widgets/base",
            "_view_module_version": "1.2.0",
            "_view_name": "LayoutView",
            "align_content": null,
            "align_items": null,
            "align_self": null,
            "border": null,
            "bottom": null,
            "display": null,
            "flex": null,
            "flex_flow": null,
            "grid_area": null,
            "grid_auto_columns": null,
            "grid_auto_flow": null,
            "grid_auto_rows": null,
            "grid_column": null,
            "grid_gap": null,
            "grid_row": null,
            "grid_template_areas": null,
            "grid_template_columns": null,
            "grid_template_rows": null,
            "height": null,
            "justify_content": null,
            "justify_items": null,
            "left": null,
            "margin": null,
            "max_height": null,
            "max_width": null,
            "min_height": null,
            "min_width": null,
            "object_fit": null,
            "object_position": null,
            "order": null,
            "overflow": null,
            "overflow_x": null,
            "overflow_y": null,
            "padding": null,
            "right": null,
            "top": null,
            "visibility": null,
            "width": null
          }
        },
        "2769469d9e34486b9848f785dd452faf": {
          "model_module": "@jupyter-widgets/controls",
          "model_name": "DescriptionStyleModel",
          "model_module_version": "1.5.0",
          "state": {
            "_model_module": "@jupyter-widgets/controls",
            "_model_module_version": "1.5.0",
            "_model_name": "DescriptionStyleModel",
            "_view_count": null,
            "_view_module": "@jupyter-widgets/base",
            "_view_module_version": "1.2.0",
            "_view_name": "StyleView",
            "description_width": ""
          }
        }
      }
    }
  },
  "nbformat": 4,
  "nbformat_minor": 0
}